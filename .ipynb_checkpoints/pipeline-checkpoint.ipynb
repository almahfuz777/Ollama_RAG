{
 "cells": [
  {
   "cell_type": "markdown",
   "metadata": {},
   "source": [
    "## Ingesting PDF"
   ]
  },
  {
   "cell_type": "code",
   "execution_count": 1,
   "metadata": {},
   "outputs": [],
   "source": [
    "# !pip install langchain"
   ]
  },
  {
   "cell_type": "code",
   "execution_count": 1,
   "metadata": {},
   "outputs": [],
   "source": [
    "from langchain.document_loaders import PyPDFLoader\n",
    "\n",
    "pdf_path = \"phy_book.pdf\"\n",
    "if pdf_path:\n",
    "    loader = PyPDFLoader(file_path=pdf_path)\n",
    "    data = loader.load()\n",
    "else:\n",
    "    print(\"PDF not found\")"
   ]
  },
  {
   "cell_type": "markdown",
   "metadata": {},
   "source": [
    "## Data Inspection"
   ]
  },
  {
   "cell_type": "code",
   "execution_count": 2,
   "metadata": {},
   "outputs": [
    {
     "name": "stdout",
     "output_type": "stream",
     "text": [
      "12  Physics \n",
      "has the dimension of mass (1) dimension of length (1) dimension of time (-2). (The \n",
      "equation to express the dimension of physical quantity is called the dimensional \n",
      "equation). Third bracket [ ] is used to i ndicate dimensions in any quantity. As for \n",
      "example, the dimensional equation of force is [ F ] = [ MLT-2 ]  \n",
      "Except these above mentioned three physical quantities of length, mass and time others \n",
      "dimension of physical quantities are :  \n",
      "The dimension of temperature as θ (Capital alphabet of Greek letter θ), the dimension of \n",
      "electric current as I, the dimension of luminous intensity as J and the dimension of \n",
      "amount of substance as N.  \n",
      "We can verify the validity of any equation or formula by analyzing dimension. For \n",
      "example, the following equation may be considered:  \n",
      "                  S = ut + 1\n",
      "2  at2 \n",
      "We know that addition, subtraction or equiva lence are possible for any same kind of \n",
      "quantities. Hence every term of an equation must indicate the same kind of quantity, that is, the dimension of every term must be the same. Now there are three terms in the above \n",
      "equation, one to the left and two to the right.  \n",
      "In this equation, s is displacement : its dimension is L, u is initial velocity; its dimension \n",
      "is \n",
      "L/T = LT-1 , a is acceleration ; its dimension is L/T2 = LT-2 , t is time ; its dimension is T.  \n",
      "∴The dimension is ut = LT-1 x T = L  \n",
      "    The dimension of at2 = LT-2 x T2 = L   \n",
      "Thus it is seen that the dimension of each of the term on both sides of the above equation \n",
      "is the same L. Therefore, the equation is valid.  \n",
      "1.7 Scientific symbols and notations :  \n",
      "Mathematics is said to be the language of physics. We usually express the laws of \n",
      "physics in the form of mathematical equation and physicists solved many problems by applying these laws or equations. Various symbols and notations are used according to the SI system for different quantities and units. This SI system of units is not only used \n",
      "in physics but also used in other branches of science now a days for measurement.  \n",
      "The following methods are followed for expressing symbol of units of different \n",
      "quantities.  \n",
      "1. The symbol of units are to be expressed by writing a number and a space after it \n",
      "(actually expresses multiplication) for expressing the value of a quality. For example “2.21 Kg’’, “7.3 x 10\n",
      "2 m2’’, “22 k’’. The sign of % also follows the same rule. However \n"
     ]
    }
   ],
   "source": [
    "# Preview first page\n",
    "print(data[16].page_content)\n",
    "# data"
   ]
  },
  {
   "cell_type": "code",
   "execution_count": 3,
   "metadata": {},
   "outputs": [
    {
     "name": "stdout",
     "output_type": "stream",
     "text": [
      "['LTRect', 'LTTextLineHorizontal', 'LTTextBoxHorizontal', 'LTFigure', 'LTCurve', 'LTLine']\n"
     ]
    }
   ],
   "source": [
    "# Elements in the pdf\n",
    "from pdfminer.high_level import extract_pages\n",
    "\n",
    "element_types = set()\n",
    "\n",
    "for page_layout in extract_pages(pdf_path):\n",
    "    for element in page_layout:\n",
    "        element_types.add(type(element).__name__)\n",
    "\n",
    "print(list(element_types))"
   ]
  },
  {
   "cell_type": "markdown",
   "metadata": {},
   "source": [
    "## Remove Extra Whitespace"
   ]
  },
  {
   "cell_type": "code",
   "execution_count": 4,
   "metadata": {},
   "outputs": [],
   "source": [
    "import re\n",
    "from langchain.schema import Document\n",
    "\n",
    "# Remove extra whitespace\n",
    "def clean_text(text):\n",
    "    text = re.sub(r'\\s+', ' ', text)\n",
    "    return text\n",
    "\n",
    "cleaned_data = []\n",
    "for doc in data:\n",
    "    cleaned_data.append(Document(page_content=clean_text(doc.page_content), metadata=doc.metadata))\n"
   ]
  },
  {
   "cell_type": "code",
   "execution_count": 5,
   "metadata": {},
   "outputs": [
    {
     "name": "stdout",
     "output_type": "stream",
     "text": [
      "12 Physics has the dimension of mass (1) dimension of length (1) dimension of time (-2). (The equation to express the dimension of physical quantity is called the dimensional equation). Third bracket [ ] is used to i ndicate dimensions in any quantity. As for example, the dimensional equation of force is [ F ] = [ MLT-2 ] Except these above mentioned three physical quantities of length, mass and time others dimension of physical quantities are : The dimension of temperature as θ (Capital alphabet of Greek letter θ), the dimension of electric current as I, the dimension of luminous intensity as J and the dimension of amount of substance as N. We can verify the validity of any equation or formula by analyzing dimension. For example, the following equation may be considered: S = ut + 1 2 at2 We know that addition, subtraction or equiva lence are possible for any same kind of quantities. Hence every term of an equation must indicate the same kind of quantity, that is, the dimension of every term must be the same. Now there are three terms in the above equation, one to the left and two to the right. In this equation, s is displacement : its dimension is L, u is initial velocity; its dimension is L/T = LT-1 , a is acceleration ; its dimension is L/T2 = LT-2 , t is time ; its dimension is T. ∴The dimension is ut = LT-1 x T = L The dimension of at2 = LT-2 x T2 = L Thus it is seen that the dimension of each of the term on both sides of the above equation is the same L. Therefore, the equation is valid. 1.7 Scientific symbols and notations : Mathematics is said to be the language of physics. We usually express the laws of physics in the form of mathematical equation and physicists solved many problems by applying these laws or equations. Various symbols and notations are used according to the SI system for different quantities and units. This SI system of units is not only used in physics but also used in other branches of science now a days for measurement. The following methods are followed for expressing symbol of units of different quantities. 1. The symbol of units are to be expressed by writing a number and a space after it (actually expresses multiplication) for expressing the value of a quality. For example “2.21 Kg’’, “7.3 x 10 2 m2’’, “22 k’’. The sign of % also follows the same rule. However \n"
     ]
    }
   ],
   "source": [
    "print(cleaned_data[16].page_content)"
   ]
  },
  {
   "cell_type": "markdown",
   "metadata": {},
   "source": [
    "## Handle Math Expressions"
   ]
  },
  {
   "cell_type": "code",
   "execution_count": 6,
   "metadata": {},
   "outputs": [],
   "source": [
    "import re\n",
    "from langchain.schema import Document\n",
    "\n",
    "# patterns = [\n",
    "#     r'[A-Za-z]+\\s*=\\s*[^\\n]*[A-Za-z0-9+\\-*/^()]+',  # Complete equations on a single line (e.g., s = 5 * t^2 + 3 * t + 2)\n",
    "#     r'[A-Za-z]+\\s*=\\s*[\\dA-Za-z+\\-*/^()]+\\s*',      # Simple equations\n",
    "#     r'∴\\s*[^=]*',                                   # Starting with '∴' (therefore)\n",
    "# ]\n",
    "\n",
    "patterns = [\n",
    "    r'\\b\\d+(\\.\\d+)?\\s*[-+*/^]\\s*\\d+(\\.\\d+)?\\b',  # Basic arithmetic operations (e.g., 3 + 5, 4.2 * 7)\n",
    "    r'[A-Za-z]+\\s*=\\s*[\\dA-Za-z+\\-*/^()]+',       # Simple equations (e.g., x = 2 + 3)\n",
    "    r'\\b\\d+\\s*[+\\-*/^()]+\\s*\\d+',                 # Algebraic expressions (e.g., 2 * (3 + 4))\n",
    "    r'\\b[A-Za-z]+\\s*\\d*[_^]\\d+\\b',                # Variables with subscripts or superscripts (e.g., x_2, y^2)\n",
    "    r'\\b\\w+\\s*\\(.*?\\)\\b',                         # Function calls (e.g., sin(x), log(2))\n",
    "    r'\\b\\w+\\s*=\\s*\\w+\\s*[-+*/]\\s*\\w+',            # Equations with variable operations (e.g., y = x + z)\n",
    "    r'\\d+(\\.\\d+)?\\s*[-+*/^()]+\\d+',               # Numeric expressions (e.g., 5^2, (3.14 * 2) + 4)\n",
    "    r'\\b\\w+\\s*\\(\\s*\\w+\\s*\\)\\s*=\\s*[\\w\\d+\\-*/^()]+',# Function definitions (e.g., f(x) = x^2 + 2x)\n",
    "    r'[\\dA-Za-z]+\\s*=\\s*[\\dA-Za-z+\\-*/^()]+',      # General form of equations (e.g., E = mc^2)\n",
    "]\n",
    "\n",
    "def expr_cleanup(math_expressions):\n",
    "    # Remove duplicates by converting the list to a set\n",
    "    unique_expressions = list(set(math_expressions))\n",
    "    # Sort by length to filter out partial expressions\n",
    "    unique_expressions.sort(key=lambda x: len(x), reverse=True)\n",
    "    # Remove partial matches\n",
    "    final_expressions = []\n",
    "    for i, expr in enumerate(unique_expressions):\n",
    "        # Ensure we don't include plain text or partial expressions\n",
    "        if not any(expr in larger_expr for larger_expr in unique_expressions[:i]):\n",
    "            # Check for presence of mathematical symbols to remove plain text\n",
    "            if re.search(r'[=+\\-*/^]', expr):\n",
    "                final_expressions.append(expr)\n",
    "    return final_expressions\n",
    "\n",
    "def extract_math_expressions(text):\n",
    "    math_expressions = []\n",
    "    for pattern in patterns:\n",
    "        matches = re.findall(pattern, text)\n",
    "        # math_expressions.extend([match.strip() for match in matches])\n",
    "        math_expressions.extend([match if isinstance(match, str) else ''.join(match) for match in matches])\n",
    "    return expr_cleanup(math_expressions)"
   ]
  },
  {
   "cell_type": "code",
   "execution_count": 7,
   "metadata": {},
   "outputs": [
    {
     "name": "stdout",
     "output_type": "stream",
     "text": [
      "Velocity = distance / time\n",
      "OM = ON / OM\n",
      "v = ds / dt\n",
      "s = 5 * t\n",
      "time = PM\n",
      "2 + 3\n",
      "t^2\n"
     ]
    }
   ],
   "source": [
    "# test on a sample\n",
    "sample_text = \"\"\"\n",
    "The equation of motion is s = 5 * t^2 + 3 * t + 2, and velocity is given by v = ds / dt.\n",
    "∴ Velocity = distance / time = PM / OM = ON / OM.\n",
    "\"\"\"\n",
    "\n",
    "expr = extract_math_expressions(sample_text)\n",
    "for i in expr: print(i)"
   ]
  },
  {
   "cell_type": "code",
   "execution_count": 8,
   "metadata": {},
   "outputs": [],
   "source": [
    "# Extract matching patterns from pdf\n",
    "for doc in cleaned_data:\n",
    "    math_exprs = extract_math_expressions(doc.page_content)\n",
    "    \n",
    "    if isinstance(math_exprs, list):\n",
    "        math_exprs = \"; \".join(math_exprs)  # Join the list elements into a single string\n",
    "    \n",
    "    # if not isinstance(math_exprs, (str,int,float,bool)): math_exprs = str(math_exprs)\n",
    "    \n",
    "    doc.metadata['math_expressions'] = math_exprs"
   ]
  },
  {
   "cell_type": "code",
   "execution_count": 9,
   "metadata": {},
   "outputs": [
    {
     "data": {
      "text/plain": [
       "'S = ut + 1; at2 = LT-2; ut = LT-1; T2 = LT-2; T = LT-1'"
      ]
     },
     "execution_count": 9,
     "metadata": {},
     "output_type": "execute_result"
    }
   ],
   "source": [
    "cleaned_data[16].metadata['math_expressions']"
   ]
  },
  {
   "cell_type": "code",
   "execution_count": 10,
   "metadata": {},
   "outputs": [
    {
     "data": {
      "text/plain": [
       "str"
      ]
     },
     "execution_count": 10,
     "metadata": {},
     "output_type": "execute_result"
    }
   ],
   "source": [
    "type(cleaned_data[16].metadata['math_expressions'])"
   ]
  },
  {
   "cell_type": "code",
   "execution_count": 11,
   "metadata": {},
   "outputs": [],
   "source": [
    "# for i in cleaned_data[16].metadata['math_expressions']: print(i)"
   ]
  },
  {
   "cell_type": "markdown",
   "metadata": {},
   "source": [
    "## Process Tables"
   ]
  },
  {
   "cell_type": "code",
   "execution_count": 12,
   "metadata": {},
   "outputs": [],
   "source": [
    "# extract tables\n",
    "import pdfplumber\n",
    "tables = []\n",
    "with pdfplumber.open(pdf_path) as pdf:\n",
    "    for page in pdf.pages:\n",
    "        table = page.extract_table()\n",
    "        if table:\n",
    "            tables.append(table)"
   ]
  },
  {
   "cell_type": "code",
   "execution_count": 13,
   "metadata": {},
   "outputs": [
    {
     "data": {
      "text/plain": [
       "[['Chapter', 'Subject', 'Page No'],\n",
       " ['One', 'PHYSICAL QUANTITIES AND MEASUREMENT', '1-25'],\n",
       " ['Two', 'MOTION', '26-47'],\n",
       " ['Three', 'FORCE', '48-67'],\n",
       " ['Four', 'WORK, POWER AND ENERGY', '68-86'],\n",
       " ['Five', 'PRESSURE AND STATES OF MATTER', '87-99'],\n",
       " ['Six', 'EFFECT OF HEAT ON SUBSTANCES', '100-113'],\n",
       " ['Seven', 'WAVES AND SOUND', '114-125'],\n",
       " ['Eight', 'REFLECTION OF LIGHT', '126-141'],\n",
       " ['Nine', 'REFRACTION OF LIGHT', '142-159'],\n",
       " ['Ten', 'STATICAL ELECTRICITY', '160-174'],\n",
       " ['Eleven', 'CURRENT ELECTRICITY', '175-197'],\n",
       " ['Twelve', 'MAGNETIC EFFECT OF CURRENT', '198-208'],\n",
       " ['Thirteen', 'MODERN PHYSICS AND ELECTRONICS', '209-226'],\n",
       " ['Fourteen', 'PHYSICS TO SAVE LIFE', '227-240'],\n",
       " ['', None, None]]"
      ]
     },
     "execution_count": 13,
     "metadata": {},
     "output_type": "execute_result"
    }
   ],
   "source": [
    "tables[0]"
   ]
  },
  {
   "cell_type": "code",
   "execution_count": 14,
   "metadata": {},
   "outputs": [
    {
     "data": {
      "text/plain": [
       "68"
      ]
     },
     "execution_count": 14,
     "metadata": {},
     "output_type": "execute_result"
    }
   ],
   "source": [
    "len(tables)"
   ]
  },
  {
   "cell_type": "code",
   "execution_count": 15,
   "metadata": {},
   "outputs": [],
   "source": [
    "# Convert tables to DataFrames\n",
    "import pandas as pd\n",
    "\n",
    "table_dfs = [pd.DataFrame(table[1:], columns=table[0]) for table in tables]\n",
    "# table_texts = [df.to_string(index=False) for df in table_dfs]"
   ]
  },
  {
   "cell_type": "code",
   "execution_count": 16,
   "metadata": {},
   "outputs": [],
   "source": [
    "# table_texts[0]"
   ]
  },
  {
   "cell_type": "code",
   "execution_count": 17,
   "metadata": {},
   "outputs": [
    {
     "data": {
      "text/html": [
       "<div>\n",
       "<style scoped>\n",
       "    .dataframe tbody tr th:only-of-type {\n",
       "        vertical-align: middle;\n",
       "    }\n",
       "\n",
       "    .dataframe tbody tr th {\n",
       "        vertical-align: top;\n",
       "    }\n",
       "\n",
       "    .dataframe thead th {\n",
       "        text-align: right;\n",
       "    }\n",
       "</style>\n",
       "<table border=\"1\" class=\"dataframe\">\n",
       "  <thead>\n",
       "    <tr style=\"text-align: right;\">\n",
       "      <th></th>\n",
       "      <th>Chapter</th>\n",
       "      <th>Subject</th>\n",
       "      <th>Page No</th>\n",
       "    </tr>\n",
       "  </thead>\n",
       "  <tbody>\n",
       "    <tr>\n",
       "      <th>0</th>\n",
       "      <td>One</td>\n",
       "      <td>PHYSICAL QUANTITIES AND MEASUREMENT</td>\n",
       "      <td>1-25</td>\n",
       "    </tr>\n",
       "    <tr>\n",
       "      <th>1</th>\n",
       "      <td>Two</td>\n",
       "      <td>MOTION</td>\n",
       "      <td>26-47</td>\n",
       "    </tr>\n",
       "    <tr>\n",
       "      <th>2</th>\n",
       "      <td>Three</td>\n",
       "      <td>FORCE</td>\n",
       "      <td>48-67</td>\n",
       "    </tr>\n",
       "    <tr>\n",
       "      <th>3</th>\n",
       "      <td>Four</td>\n",
       "      <td>WORK, POWER AND ENERGY</td>\n",
       "      <td>68-86</td>\n",
       "    </tr>\n",
       "    <tr>\n",
       "      <th>4</th>\n",
       "      <td>Five</td>\n",
       "      <td>PRESSURE AND STATES OF MATTER</td>\n",
       "      <td>87-99</td>\n",
       "    </tr>\n",
       "    <tr>\n",
       "      <th>5</th>\n",
       "      <td>Six</td>\n",
       "      <td>EFFECT OF HEAT ON SUBSTANCES</td>\n",
       "      <td>100-113</td>\n",
       "    </tr>\n",
       "    <tr>\n",
       "      <th>6</th>\n",
       "      <td>Seven</td>\n",
       "      <td>WAVES AND SOUND</td>\n",
       "      <td>114-125</td>\n",
       "    </tr>\n",
       "    <tr>\n",
       "      <th>7</th>\n",
       "      <td>Eight</td>\n",
       "      <td>REFLECTION OF LIGHT</td>\n",
       "      <td>126-141</td>\n",
       "    </tr>\n",
       "    <tr>\n",
       "      <th>8</th>\n",
       "      <td>Nine</td>\n",
       "      <td>REFRACTION OF LIGHT</td>\n",
       "      <td>142-159</td>\n",
       "    </tr>\n",
       "    <tr>\n",
       "      <th>9</th>\n",
       "      <td>Ten</td>\n",
       "      <td>STATICAL ELECTRICITY</td>\n",
       "      <td>160-174</td>\n",
       "    </tr>\n",
       "    <tr>\n",
       "      <th>10</th>\n",
       "      <td>Eleven</td>\n",
       "      <td>CURRENT ELECTRICITY</td>\n",
       "      <td>175-197</td>\n",
       "    </tr>\n",
       "    <tr>\n",
       "      <th>11</th>\n",
       "      <td>Twelve</td>\n",
       "      <td>MAGNETIC EFFECT OF CURRENT</td>\n",
       "      <td>198-208</td>\n",
       "    </tr>\n",
       "    <tr>\n",
       "      <th>12</th>\n",
       "      <td>Thirteen</td>\n",
       "      <td>MODERN PHYSICS AND ELECTRONICS</td>\n",
       "      <td>209-226</td>\n",
       "    </tr>\n",
       "    <tr>\n",
       "      <th>13</th>\n",
       "      <td>Fourteen</td>\n",
       "      <td>PHYSICS TO SAVE LIFE</td>\n",
       "      <td>227-240</td>\n",
       "    </tr>\n",
       "    <tr>\n",
       "      <th>14</th>\n",
       "      <td></td>\n",
       "      <td>None</td>\n",
       "      <td>None</td>\n",
       "    </tr>\n",
       "  </tbody>\n",
       "</table>\n",
       "</div>"
      ],
      "text/plain": [
       "     Chapter                              Subject  Page No\n",
       "0        One  PHYSICAL QUANTITIES AND MEASUREMENT     1-25\n",
       "1        Two                               MOTION    26-47\n",
       "2      Three                                FORCE    48-67\n",
       "3       Four               WORK, POWER AND ENERGY    68-86\n",
       "4       Five        PRESSURE AND STATES OF MATTER    87-99\n",
       "5        Six         EFFECT OF HEAT ON SUBSTANCES  100-113\n",
       "6      Seven                      WAVES AND SOUND  114-125\n",
       "7      Eight                  REFLECTION OF LIGHT  126-141\n",
       "8       Nine                  REFRACTION OF LIGHT  142-159\n",
       "9        Ten                 STATICAL ELECTRICITY  160-174\n",
       "10    Eleven                  CURRENT ELECTRICITY  175-197\n",
       "11    Twelve           MAGNETIC EFFECT OF CURRENT  198-208\n",
       "12  Thirteen       MODERN PHYSICS AND ELECTRONICS  209-226\n",
       "13  Fourteen                 PHYSICS TO SAVE LIFE  227-240\n",
       "14                                           None     None"
      ]
     },
     "execution_count": 17,
     "metadata": {},
     "output_type": "execute_result"
    }
   ],
   "source": [
    "table_dfs[0]"
   ]
  },
  {
   "cell_type": "code",
   "execution_count": 18,
   "metadata": {},
   "outputs": [],
   "source": [
    "# Function to clean up columns: remove empty columns and make names unique\n",
    "def clean_dataframe(df):\n",
    "    # Remove empty or None columns\n",
    "    df = df.loc[:, df.columns.notnull()]  # Keep columns that are not None\n",
    "    df = df.loc[:, df.columns != '']  # Keep columns that are not empty strings\n",
    "    \n",
    "    # Check for duplicates\n",
    "    if not df.columns.is_unique:\n",
    "        print(f\"Duplicate columns found in DataFrame:\\n{df.columns[df.columns.duplicated()]}\")\n",
    "        \n",
    "    # Make columns unique\n",
    "    cols = pd.Series(df.columns)\n",
    "    for dup in cols[cols.duplicated()].unique():  # Find duplicates\n",
    "        cols[cols[cols == dup].index.values.tolist()] = [dup + '_' + str(i) if i != 0 else dup for i in range(sum(cols == dup))]\n",
    "    df.columns = cols\n",
    "    \n",
    "    return df"
   ]
  },
  {
   "cell_type": "code",
   "execution_count": 19,
   "metadata": {},
   "outputs": [],
   "source": [
    "# Function to ensure unique column names\n",
    "def make_columns_unique(df):\n",
    "    if not df.columns.is_unique:\n",
    "        print(f\"Duplicate columns found in DataFrame:\\n{df.columns[df.columns.duplicated()]}\")\n",
    "        \n",
    "    cols = pd.Series(df.columns)\n",
    "    for dup in cols[cols.duplicated()].unique():  # Find duplicates\n",
    "        cols[cols[cols == dup].index.values.tolist()] = [dup + '_' + str(i) if i != 0 else dup for i in range(sum(cols == dup))]\n",
    "    df.columns = cols\n",
    "    return df"
   ]
  },
  {
   "cell_type": "code",
   "execution_count": 20,
   "metadata": {},
   "outputs": [
    {
     "name": "stdout",
     "output_type": "stream",
     "text": [
      "Unique columns for cleaned DataFrame:\n",
      "Index(['Chapter', 'Subject', 'Page No'], dtype='object')\n",
      "Unique columns for cleaned DataFrame:\n",
      "Index([], dtype='object')\n",
      "Unique columns for cleaned DataFrame:\n",
      "Index(['SL No', 'Name of Physical Quantities', 'Symbol of\\nquantities',\n",
      "       'SI Unit', 'Symbol\\nfor unit'],\n",
      "      dtype='object')\n",
      "Unique columns for cleaned DataFrame:\n",
      "Index(['desi', '10-1', 'd', '1 deci ohm = 1 dΩ = 10-1Ω'], dtype='object')\n",
      "Unique columns for cleaned DataFrame:\n",
      "Index(['Rectangular\\nbody’s', 'Number of\\nobservation',\n",
      "       'main\\nscale\\nreading\\nM (cm)', 'Vernier\\nsuper\\nimposition\\nV',\n",
      "       'Vernier\\nconstant\\nVC (cm)', 'Reading\\nM + V x\\nVC\\n(cm)',\n",
      "       'Mean\\nreading\\n(cm)'],\n",
      "      dtype='object')\n",
      "Unique columns for cleaned DataFrame:\n",
      "Index(['Number\\nof\\nobservati\\non', 'Linear\\nscale\\nreadin\\ng L\\n(mm)',\n",
      "       'Number\\nof\\ndivisions\\nin the\\ncircular\\nscale C',\n",
      "       'Least\\ncount LC\\n(mm)', 'Diameter\\nd = L + C x LC\\n(mm)',\n",
      "       'Average\\ndiameter\\nd = d ±e\\n(mm)'],\n",
      "      dtype='object')\n",
      "Unique columns for cleaned DataFrame:\n",
      "Index(['Scalar Quantity', 'Vector quantity'], dtype='object')\n",
      "Unique columns for cleaned DataFrame:\n",
      "Index(['Serial No', 'Time (s)', 'Velocity (kmh-1)', 'Velocity (ms-1)'], dtype='object')\n",
      "Unique columns for cleaned DataFrame:\n",
      "Index(['Time, t (min)', 'Distance s km'], dtype='object')\n",
      "Unique columns for cleaned DataFrame:\n",
      "Index(['Do by yourself : The velocity of a car after every five seconds is given in the table below.'], dtype='object')\n",
      "Unique columns for cleaned DataFrame:\n",
      "Index(['Reading', 'Traveled distance i.e. length of\\nthe plank', 'Time (s)',\n",
      "       'Average speed'],\n",
      "      dtype='object')\n",
      "Unique columns for cleaned DataFrame:\n",
      "Index(['Reading', 'Traveled distance (m)', 'Time (s)',\n",
      "       'Average speed = distance /\\ntime'],\n",
      "      dtype='object')\n",
      "Unique columns for cleaned DataFrame:\n",
      "Index([], dtype='object')\n",
      "Unique columns for cleaned DataFrame:\n",
      "Index(['Do yourself'], dtype='object')\n",
      "Unique columns for cleaned DataFrame:\n",
      "Index(['Do yourself: Release a pen or pencil or any object from your hand.'], dtype='object')\n",
      "Unique columns for cleaned DataFrame:\n",
      "Index(['Preparing report'], dtype='object')\n",
      "Unique columns for cleaned DataFrame:\n",
      "Index(['Serial\\nnumber', 'Weight of the body\\n(N)', 'Average weight\\n(N)'], dtype='object')\n",
      "Unique columns for cleaned DataFrame:\n",
      "Index(['Do it yourself: Keep a pen on a table or a desk in front of you. Put a light object before the'], dtype='object')\n",
      "Unique columns for cleaned DataFrame:\n",
      "Index(['Expanded Activities: Take a pulley and place a rope on it. Tie'], dtype='object')\n",
      "Unique columns for cleaned DataFrame:\n",
      "Index(['Do it yourself: Take a concave mirror with a focal length of 15cm or 20cm. Hold the mirror'], dtype='object')\n",
      "Unique columns for cleaned DataFrame:\n",
      "Index(['Making a model: Make a model of a'], dtype='object')\n",
      "Unique columns for cleaned DataFrame:\n",
      "Index(['Calculate: If a substance of 1kg mass is converted completely into energy, then how many'], dtype='object')\n",
      "Unique columns for cleaned DataFrame:\n",
      "Index(['Do it: Count the number of steps of the stairs to reach the roof of your school or house or any'], dtype='object')\n",
      "Unique columns for cleaned DataFrame:\n",
      "Index(['Readings', 'Nature of running',\n",
      "       'Time required to reach\\nthe roof, t (s)', 'mgh\\nPower=\\nt\\n(W)'],\n",
      "      dtype='object')\n",
      "Unique columns for cleaned DataFrame:\n",
      "Index(['Do it yourself: Hole a paper by a very sharp pin and by a blunt pin. Which one is easier to hole?'], dtype='object')\n",
      "Unique columns for cleaned DataFrame:\n",
      "Index(['Task: Take two jugs of equal volume. Fill up one jug with water and the other with honey.'], dtype='object')\n",
      "Duplicate columns found in DataFrame:\n",
      "Index(['Substances', 'Density (kg-3)'], dtype='object')\n",
      "Unique columns for cleaned DataFrame:\n",
      "Index(['Substances', 'Density (kg-3)', 'Substances_1', 'Density (kg-3)_1'], dtype='object')\n",
      "Unique columns for cleaned DataFrame:\n",
      "Index([], dtype='object')\n",
      "Unique columns for cleaned DataFrame:\n",
      "Index(['Calculate: The surface area of the bottom of a rectangular block is 25cm2. It is dipped in'], dtype='object')\n",
      "Unique columns for cleaned DataFrame:\n",
      "Index([], dtype='object')\n",
      "Unique columns for cleaned DataFrame:\n",
      "Index(['Number\\nof\\nobservati\\nons', 'Mass of the\\nsolid\\nsubstance\\nM gm.',\n",
      "       'Reading of the\\nupper level of\\nwater, before\\nthe immersion\\nof the body\\nV Cm3\\n1',\n",
      "       'Reading of the\\nupper level of\\nwater, after\\nthe immersion\\nof the body\\nV Cm3\\n2',\n",
      "       'Volume\\nof the\\nsolid body\\nV’= (V -\\n2\\nV )Cm3\\n1',\n",
      "       'Average\\nVolume\\nVcm3'],\n",
      "      dtype='object')\n",
      "Unique columns for cleaned DataFrame:\n",
      "Index(['Observation: Why a gap is kept at the joining point of two rails of a rail line?'], dtype='object')\n",
      "Unique columns for cleaned DataFrame:\n",
      "Index(['Experiment: Pouring some water in a container and supplying heat the gradual increase of'], dtype='object')\n",
      "Unique columns for cleaned DataFrame:\n",
      "Index(['Do it yourself: Press two pieces of ice together for some time keeping them in contact with each'], dtype='object')\n",
      "Unique columns for cleaned DataFrame:\n",
      "Index(['Matter', 'Specific Heat (Jkg-1K-1)'], dtype='object')\n",
      "Unique columns for cleaned DataFrame:\n",
      "Index(['Matter', 'Specific Heat (Jkg-1K-1)'], dtype='object')\n",
      "Unique columns for cleaned DataFrame:\n",
      "Index(['Task: Take a long rope as in the figure. Attach one end of the rope with a strong support.'], dtype='object')\n",
      "Unique columns for cleaned DataFrame:\n",
      "Index([], dtype='object')\n",
      "Unique columns for cleaned DataFrame:\n",
      "Index(['Activities: Take water in a brass bowl. Strike the bowl. You can hear sound. Small waves are'], dtype='object')\n",
      "Unique columns for cleaned DataFrame:\n",
      "Index(['Do it yourself: Take two empty pots of tin. Connect the pots with a thin wire of'], dtype='object')\n",
      "Unique columns for cleaned DataFrame:\n",
      "Index([], dtype='object')\n",
      "Unique columns for cleaned DataFrame:\n",
      "Index([], dtype='object')\n",
      "Unique columns for cleaned DataFrame:\n",
      "Index(['Do it: Put an ink mark on a white paper and place a transparent glass slab on it'], dtype='object')\n",
      "Unique columns for cleaned DataFrame:\n",
      "Index([], dtype='object')\n",
      "Unique columns for cleaned DataFrame:\n",
      "Index(['Observation: While walking or travelling in vehicle on a pitch covered road during summer'], dtype='object')\n",
      "Unique columns for cleaned DataFrame:\n",
      "Index([], dtype='object')\n",
      "Unique columns for cleaned DataFrame:\n",
      "Index([], dtype='object')\n",
      "Unique columns for cleaned DataFrame:\n",
      "Index([], dtype='object')\n",
      "Unique columns for cleaned DataFrame:\n",
      "Index(['Name of person', 'Approximate age',\n",
      "       'Least distance of\\ndistinct vision',\n",
      "       'Recommended Spectacles\\n(If necessary)'],\n",
      "      dtype='object')\n",
      "Unique columns for cleaned DataFrame:\n",
      "Index(['Experiment: Suspend a light pith ball freely with a string from a stand or a hook. Rub one end'], dtype='object')\n",
      "Unique columns for cleaned DataFrame:\n",
      "Index(['Extended activities: Rub a balloon full of air with your shirt. Then press the balloon with the'], dtype='object')\n",
      "Unique columns for cleaned DataFrame:\n",
      "Index([], dtype='object')\n",
      "Unique columns for cleaned DataFrame:\n",
      "Index([], dtype='object')\n",
      "Unique columns for cleaned DataFrame:\n",
      "Index([], dtype='object')\n",
      "Unique columns for cleaned DataFrame:\n",
      "Index([], dtype='object')\n",
      "Unique columns for cleaned DataFrame:\n",
      "Index(['Device', 'Symbol'], dtype='object')\n",
      "Unique columns for cleaned DataFrame:\n",
      "Index(['Experiment:Measure the potential difference between the two terminals of a dry cell. This is'], dtype='object')\n",
      "Unique columns for cleaned DataFrame:\n",
      "Index([], dtype='object')\n",
      "Unique columns for cleaned DataFrame:\n",
      "Index(['Material', 'Resistivity (Ω m)'], dtype='object')\n",
      "Unique columns for cleaned DataFrame:\n",
      "Index(['Do yourself: Express 1kWh in terms of joule.'], dtype='object')\n",
      "Unique columns for cleaned DataFrame:\n",
      "Index(['Do yourself: If there is an electrical connection in the house you are dwelling in, then prepare'], dtype='object')\n",
      "Unique columns for cleaned DataFrame:\n",
      "Index(['re (L)'], dtype='object')\n",
      "Unique columns for cleaned DataFrame:\n",
      "Index([], dtype='object')\n",
      "Unique columns for cleaned DataFrame:\n",
      "Index([], dtype='object')\n",
      "Unique columns for cleaned DataFrame:\n",
      "Index(['Do yourself. Make a circuit like the picture aside. Place a'], dtype='object')\n",
      "Unique columns for cleaned DataFrame:\n",
      "Index([], dtype='object')\n",
      "Unique columns for cleaned DataFrame:\n",
      "Index([], dtype='object')\n",
      "Unique columns for cleaned DataFrame:\n",
      "Index([], dtype='object')\n"
     ]
    }
   ],
   "source": [
    "# Convert DataFrames to JSON\n",
    "table_jsons = []\n",
    "for df in table_dfs:\n",
    "    df_cleaned = clean_dataframe(df)  # Clean the DataFrame\n",
    "    print(f\"Unique columns for cleaned DataFrame:\\n{df_cleaned.columns}\")\n",
    "    # Convert to JSON only if the DataFrame is not empty\n",
    "    if not df_cleaned.empty:\n",
    "        json_str = df_cleaned.to_json(orient='records')\n",
    "        table_jsons.append(json_str)  # Append only non-empty JSON strings\n",
    "    # table_jsons.append(df_cleaned.to_json(orient='records'))"
   ]
  },
  {
   "cell_type": "code",
   "execution_count": 21,
   "metadata": {},
   "outputs": [
    {
     "name": "stdout",
     "output_type": "stream",
     "text": [
      "[{\"Chapter\":\"One\",\"Subject\":\"PHYSICAL QUANTITIES AND MEASUREMENT\",\"Page No\":\"1-25\"},{\"Chapter\":\"Two\",\"Subject\":\"MOTION\",\"Page No\":\"26-47\"},{\"Chapter\":\"Three\",\"Subject\":\"FORCE\",\"Page No\":\"48-67\"},{\"Chapter\":\"Four\",\"Subject\":\"WORK, POWER AND ENERGY\",\"Page No\":\"68-86\"},{\"Chapter\":\"Five\",\"Subject\":\"PRESSURE AND STATES OF MATTER\",\"Page No\":\"87-99\"},{\"Chapter\":\"Six\",\"Subject\":\"EFFECT OF HEAT ON SUBSTANCES\",\"Page No\":\"100-113\"},{\"Chapter\":\"Seven\",\"Subject\":\"WAVES AND SOUND\",\"Page No\":\"114-125\"},{\"Chapter\":\"Eight\",\"Subject\":\"REFLECTION OF LIGHT\",\"Page No\":\"126-141\"},{\"Chapter\":\"Nine\",\"Subject\":\"REFRACTION OF LIGHT\",\"Page No\":\"142-159\"},{\"Chapter\":\"Ten\",\"Subject\":\"STATICAL ELECTRICITY\",\"Page No\":\"160-174\"},{\"Chapter\":\"Eleven\",\"Subject\":\"CURRENT ELECTRICITY\",\"Page No\":\"175-197\"},{\"Chapter\":\"Twelve\",\"Subject\":\"MAGNETIC EFFECT OF CURRENT\",\"Page No\":\"198-208\"},{\"Chapter\":\"Thirteen\",\"Subject\":\"MODERN PHYSICS AND ELECTRONICS\",\"Page No\":\"209-226\"},{\"Chapter\":\"Fourteen\",\"Subject\":\"PHYSICS TO SAVE LIFE\",\"Page No\":\"227-240\"},{\"Chapter\":\"\",\"Subject\":null,\"Page No\":null}]\n",
      "[{\"SL No\":\"1\",\"Name of Physical Quantities\":\"Length\",\"Symbol of\\nquantities\":\"L\",\"SI Unit\":\"meter\",\"Symbol\\nfor unit\":\"m\"},{\"SL No\":\"2\",\"Name of Physical Quantities\":\"Mass\",\"Symbol of\\nquantities\":\"m\",\"SI Unit\":\"kilogram\",\"Symbol\\nfor unit\":\"kg\"},{\"SL No\":\"3\",\"Name of Physical Quantities\":\"Time\",\"Symbol of\\nquantities\":\"T\",\"SI Unit\":\"second\",\"Symbol\\nfor unit\":\"s\"},{\"SL No\":\"4\",\"Name of Physical Quantities\":\"Temperature\",\"Symbol of\\nquantities\":\"\\u03b8,T\",\"SI Unit\":\"Kelvin\",\"Symbol\\nfor unit\":\"k\"},{\"SL No\":\"5\",\"Name of Physical Quantities\":\"Electric current\",\"Symbol of\\nquantities\":\"I\",\"SI Unit\":\"ampere\",\"Symbol\\nfor unit\":\"A\"},{\"SL No\":\"6\",\"Name of Physical Quantities\":\"Luminous intensity\",\"Symbol of\\nquantities\":\"I\\nV\",\"SI Unit\":\"candela\",\"Symbol\\nfor unit\":\"cd\"},{\"SL No\":\"7\",\"Name of Physical Quantities\":\"Amount of substance\",\"Symbol of\\nquantities\":\"n\",\"SI Unit\":\"mole\",\"Symbol\\nfor unit\":\"mol\"}]\n",
      "[{\"desi\":\"centi\",\"10-1\":\"10-2\",\"d\":\"c\",\"1 deci ohm = 1 d\\u2126 = 10-1\\u2126\":\"1 centimeter = 1 cm = 10-2m\"},{\"desi\":\"milli\",\"10-1\":\"10-3\",\"d\":\"m\",\"1 deci ohm = 1 d\\u2126 = 10-1\\u2126\":\"1 mili ampere = 1 mA = 10-3A\"},{\"desi\":\"micro\",\"10-1\":\"10-6\",\"d\":\"\\u00b5\",\"1 deci ohm = 1 d\\u2126 = 10-1\\u2126\":\"1 micro volt = 1 \\u00b5V = 10-6V\"},{\"desi\":\"nano\",\"10-1\":\"10-9\",\"d\":\"n\",\"1 deci ohm = 1 d\\u2126 = 10-1\\u2126\":\"1 nano second = 1ns = 10-9s\"},{\"desi\":\"pico\",\"10-1\":\"10-12\",\"d\":\"p\",\"1 deci ohm = 1 d\\u2126 = 10-1\\u2126\":\"1 pico farad = 1 pf = 10-12f\"},{\"desi\":\"femto\",\"10-1\":\"10-15\",\"d\":\"f\",\"1 deci ohm = 1 d\\u2126 = 10-1\\u2126\":\"1 femto meter = 1 fm = 10-15m\"},{\"desi\":\"atto\",\"10-1\":\"10-18\",\"d\":\"a\",\"1 deci ohm = 1 d\\u2126 = 10-1\\u2126\":\"1 atto watt = 1 aW = 10-18W\"}]\n",
      "[{\"Rectangular\\nbody\\u2019s\":\"Length\\nL\",\"Number of\\nobservation\":\"1\",\"main\\nscale\\nreading\\nM (cm)\":\"\",\"Vernier\\nsuper\\nimposition\\nV\":\"\",\"Vernier\\nconstant\\nVC (cm)\":\"\",\"Reading\\nM + V x\\nVC\\n(cm)\":\"\",\"Mean\\nreading\\n(cm)\":\"\"},{\"Rectangular\\nbody\\u2019s\":null,\"Number of\\nobservation\":\"2\",\"main\\nscale\\nreading\\nM (cm)\":\"\",\"Vernier\\nsuper\\nimposition\\nV\":\"\",\"Vernier\\nconstant\\nVC (cm)\":\"\",\"Reading\\nM + V x\\nVC\\n(cm)\":\"\",\"Mean\\nreading\\n(cm)\":\"\"},{\"Rectangular\\nbody\\u2019s\":null,\"Number of\\nobservation\":\"3\",\"main\\nscale\\nreading\\nM (cm)\":\"\",\"Vernier\\nsuper\\nimposition\\nV\":\"\",\"Vernier\\nconstant\\nVC (cm)\":\"\",\"Reading\\nM + V x\\nVC\\n(cm)\":\"\",\"Mean\\nreading\\n(cm)\":\"\"},{\"Rectangular\\nbody\\u2019s\":\"Breadth\\nB\",\"Number of\\nobservation\":\"1\",\"main\\nscale\\nreading\\nM (cm)\":\"\",\"Vernier\\nsuper\\nimposition\\nV\":\"\",\"Vernier\\nconstant\\nVC (cm)\":\"\",\"Reading\\nM + V x\\nVC\\n(cm)\":\"\",\"Mean\\nreading\\n(cm)\":\"\"},{\"Rectangular\\nbody\\u2019s\":null,\"Number of\\nobservation\":\"2\",\"main\\nscale\\nreading\\nM (cm)\":\"\",\"Vernier\\nsuper\\nimposition\\nV\":\"\",\"Vernier\\nconstant\\nVC (cm)\":\"\",\"Reading\\nM + V x\\nVC\\n(cm)\":\"\",\"Mean\\nreading\\n(cm)\":\"\"},{\"Rectangular\\nbody\\u2019s\":null,\"Number of\\nobservation\":\"3\",\"main\\nscale\\nreading\\nM (cm)\":\"\",\"Vernier\\nsuper\\nimposition\\nV\":\"\",\"Vernier\\nconstant\\nVC (cm)\":\"\",\"Reading\\nM + V x\\nVC\\n(cm)\":\"\",\"Mean\\nreading\\n(cm)\":\"\"},{\"Rectangular\\nbody\\u2019s\":\"Height\\nH\",\"Number of\\nobservation\":\"1\",\"main\\nscale\\nreading\\nM (cm)\":\"\",\"Vernier\\nsuper\\nimposition\\nV\":\"\",\"Vernier\\nconstant\\nVC (cm)\":\"\",\"Reading\\nM + V x\\nVC\\n(cm)\":\"\",\"Mean\\nreading\\n(cm)\":\"\"},{\"Rectangular\\nbody\\u2019s\":null,\"Number of\\nobservation\":\"2\",\"main\\nscale\\nreading\\nM (cm)\":\"\",\"Vernier\\nsuper\\nimposition\\nV\":\"\",\"Vernier\\nconstant\\nVC (cm)\":\"\",\"Reading\\nM + V x\\nVC\\n(cm)\":\"\",\"Mean\\nreading\\n(cm)\":\"\"},{\"Rectangular\\nbody\\u2019s\":null,\"Number of\\nobservation\":\"3\",\"main\\nscale\\nreading\\nM (cm)\":\"\",\"Vernier\\nsuper\\nimposition\\nV\":\"\",\"Vernier\\nconstant\\nVC (cm)\":\"\",\"Reading\\nM + V x\\nVC\\n(cm)\":\"\",\"Mean\\nreading\\n(cm)\":\"\"}]\n",
      "[{\"Number\\nof\\nobservati\\non\":\"1\",\"Linear\\nscale\\nreadin\\ng L\\n(mm)\":\"\",\"Number\\nof\\ndivisions\\nin the\\ncircular\\nscale C\":\"\",\"Least\\ncount LC\\n(mm)\":\"\",\"Diameter\\nd = L + C x LC\\n(mm)\":\"\",\"Average\\ndiameter\\nd = d \\u00b1e\\n(mm)\":\"\"},{\"Number\\nof\\nobservati\\non\":\"2\",\"Linear\\nscale\\nreadin\\ng L\\n(mm)\":\"\",\"Number\\nof\\ndivisions\\nin the\\ncircular\\nscale C\":\"\",\"Least\\ncount LC\\n(mm)\":\"\",\"Diameter\\nd = L + C x LC\\n(mm)\":\"\",\"Average\\ndiameter\\nd = d \\u00b1e\\n(mm)\":\"\"},{\"Number\\nof\\nobservati\\non\":\"3\",\"Linear\\nscale\\nreadin\\ng L\\n(mm)\":\"\",\"Number\\nof\\ndivisions\\nin the\\ncircular\\nscale C\":\"\",\"Least\\ncount LC\\n(mm)\":\"\",\"Diameter\\nd = L + C x LC\\n(mm)\":\"\",\"Average\\ndiameter\\nd = d \\u00b1e\\n(mm)\":\"\"},{\"Number\\nof\\nobservati\\non\":\"4\",\"Linear\\nscale\\nreadin\\ng L\\n(mm)\":\"\",\"Number\\nof\\ndivisions\\nin the\\ncircular\\nscale C\":\"\",\"Least\\ncount LC\\n(mm)\":\"\",\"Diameter\\nd = L + C x LC\\n(mm)\":\"\",\"Average\\ndiameter\\nd = d \\u00b1e\\n(mm)\":\"\"},{\"Number\\nof\\nobservati\\non\":\"5\",\"Linear\\nscale\\nreadin\\ng L\\n(mm)\":\"\",\"Number\\nof\\ndivisions\\nin the\\ncircular\\nscale C\":\"\",\"Least\\ncount LC\\n(mm)\":\"\",\"Diameter\\nd = L + C x LC\\n(mm)\":\"\",\"Average\\ndiameter\\nd = d \\u00b1e\\n(mm)\":\"\"}]\n",
      "[{\"Scalar Quantity\":\"Distance\",\"Vector quantity\":\"Displacement\"},{\"Scalar Quantity\":\"Speed\",\"Vector quantity\":\"Velocity\"},{\"Scalar Quantity\":\"Time\",\"Vector quantity\":\"Force\"},{\"Scalar Quantity\":\"Energy\",\"Vector quantity\":\"Acceleration\"}]\n",
      "[{\"Serial No\":\"1.\",\"Time (s)\":\"0\",\"Velocity (kmh-1)\":\"0\",\"Velocity (ms-1)\":\"0\"},{\"Serial No\":\"2.\",\"Time (s)\":\"8\",\"Velocity (kmh-1)\":\"14.4\",\"Velocity (ms-1)\":\"4\"},{\"Serial No\":\"3.\",\"Time (s)\":\"16\",\"Velocity (kmh-1)\":\"28.8\",\"Velocity (ms-1)\":\"8\"},{\"Serial No\":\"4.\",\"Time (s)\":\"24\",\"Velocity (kmh-1)\":\"43.2\",\"Velocity (ms-1)\":\"12\"},{\"Serial No\":\"5.\",\"Time (s)\":\"32\",\"Velocity (kmh-1)\":\"57.6\",\"Velocity (ms-1)\":\"16\"},{\"Serial No\":\"6.\",\"Time (s)\":\"40\",\"Velocity (kmh-1)\":\"72.0\",\"Velocity (ms-1)\":\"20\"}]\n",
      "[{\"Time, t (min)\":\"0\",\"Distance s km\":\"0\"},{\"Time, t (min)\":\"12\",\"Distance s km\":\"6\"},{\"Time, t (min)\":\"24\\n36\",\"Distance s km\":\"12\\n18\"},{\"Time, t (min)\":\"48\",\"Distance s km\":\"24\"},{\"Time, t (min)\":\"60\",\"Distance s km\":\"30\"}]\n",
      "[{\"Do by yourself : The velocity of a car after every five seconds is given in the table below.\":\"Table : 2.4\"},{\"Do by yourself : The velocity of a car after every five seconds is given in the table below.\":\"\"},{\"Do by yourself : The velocity of a car after every five seconds is given in the table below.\":\"\"},{\"Do by yourself : The velocity of a car after every five seconds is given in the table below.\":\"\"},{\"Do by yourself : The velocity of a car after every five seconds is given in the table below.\":\"\"},{\"Do by yourself : The velocity of a car after every five seconds is given in the table below.\":\"\"},{\"Do by yourself : The velocity of a car after every five seconds is given in the table below.\":\"\"},{\"Do by yourself : The velocity of a car after every five seconds is given in the table below.\":\"\"},{\"Do by yourself : The velocity of a car after every five seconds is given in the table below.\":\"\"},{\"Do by yourself : The velocity of a car after every five seconds is given in the table below.\":\"Take a graph paper. Draw the velocity-time graph on the graph paper using any convenient\"},{\"Do by yourself : The velocity of a car after every five seconds is given in the table below.\":\"unit mentioned in the table above. Find the velocity and acceleration of the car in 12 seconds\"},{\"Do by yourself : The velocity of a car after every five seconds is given in the table below.\":\"from the graph.\"}]\n",
      "[{\"Reading\":null,\"Traveled distance i.e. length of\\nthe plank\":null,\"Time (s)\":null,\"Average speed\":\"distance\\n= (ms-1)\\ntime\"},{\"Reading\":\"1\",\"Traveled distance i.e. length of\\nthe plank\":\"\",\"Time (s)\":\"\",\"Average speed\":null},{\"Reading\":\"2\",\"Traveled distance i.e. length of\\nthe plank\":\"\",\"Time (s)\":\"\",\"Average speed\":null},{\"Reading\":\"3\",\"Traveled distance i.e. length of\\nthe plank\":\"\",\"Time (s)\":\"\",\"Average speed\":null},{\"Reading\":\"4\",\"Traveled distance i.e. length of\\nthe plank\":\"\",\"Time (s)\":\"\",\"Average speed\":null},{\"Reading\":\"5\",\"Traveled distance i.e. length of\\nthe plank\":\"\",\"Time (s)\":\"\",\"Average speed\":null},{\"Reading\":\"6\",\"Traveled distance i.e. length of\\nthe plank\":\"\",\"Time (s)\":\"\",\"Average speed\":null},{\"Reading\":\"7\",\"Traveled distance i.e. length of\\nthe plank\":\"\",\"Time (s)\":\"\",\"Average speed\":null}]\n",
      "[{\"Reading\":\"1\",\"Traveled distance (m)\":\"\",\"Time (s)\":\"\",\"Average speed = distance \\/\\ntime\":\"\"},{\"Reading\":\"2\",\"Traveled distance (m)\":\"\",\"Time (s)\":\"\",\"Average speed = distance \\/\\ntime\":\"\"},{\"Reading\":\"3\",\"Traveled distance (m)\":\"\",\"Time (s)\":\"\",\"Average speed = distance \\/\\ntime\":\"\"},{\"Reading\":\"4\",\"Traveled distance (m)\":\"\",\"Time (s)\":\"\",\"Average speed = distance \\/\\ntime\":\"\"},{\"Reading\":\"5\",\"Traveled distance (m)\":\"\",\"Time (s)\":\"\",\"Average speed = distance \\/\\ntime\":\"\"},{\"Reading\":\"6\",\"Traveled distance (m)\":\"\",\"Time (s)\":\"\",\"Average speed = distance \\/\\ntime\":\"\"},{\"Reading\":\"7\",\"Traveled distance (m)\":\"\",\"Time (s)\":\"\",\"Average speed = distance \\/\\ntime\":\"\"}]\n",
      "[{\"Do yourself\":\"\\u2022 Keep a pen and a book on a table. Now strike the pen with finger. What do you\"},{\"Do yourself\":\"observe? The pen moved a small distance on the table.\"},{\"Do yourself\":\"\\u2022 Now repeat this procedure for the book. The book won\\u2019t move. Now push the book\"},{\"Do yourself\":\"with your hand. The book will be displaced from its original position.\"}]\n",
      "[{\"Preparing report\":\"Present a report to your teacher about the positive impact of friction in our life in the light of\"},{\"Preparing report\":\"section 3.9 to 3.12.\"},{\"Preparing report\":\"Teacher will select the best report and tell the student to present in the class room.\"}]\n",
      "[{\"Serial\\nnumber\":\"1.\",\"Weight of the body\\n(N)\":\"\",\"Average weight\\n(N)\":\"\"},{\"Serial\\nnumber\":\"2.\",\"Weight of the body\\n(N)\":\"\",\"Average weight\\n(N)\":null},{\"Serial\\nnumber\":\"3.\",\"Weight of the body\\n(N)\":\"\",\"Average weight\\n(N)\":null},{\"Serial\\nnumber\":\"4.\",\"Weight of the body\\n(N)\":\"\",\"Average weight\\n(N)\":null},{\"Serial\\nnumber\":\"5.\",\"Weight of the body\\n(N)\":\"\",\"Average weight\\n(N)\":null}]\n",
      "[{\"Do it yourself: Keep a pen on a table or a desk in front of you. Put a light object before the\":\"pen. Hit the pen by your finger towards the object.\"}]\n",
      "[{\"Expanded Activities: Take a pulley and place a rope on it. Tie\":\"a heavy object A with its one end and a light object B with the\"},{\"Expanded Activities: Take a pulley and place a rope on it. Tie\":\"other end. Such that, A remains above the ground but B\"},{\"Expanded Activities: Take a pulley and place a rope on it. Tie\":\"remains on the ground [Fig: 4.3]. Remove your hand.\"}]\n",
      "[{\"Do it yourself: Take a concave mirror with a focal length of 15cm or 20cm. Hold the mirror\":\"facing the sun. Take a piece of paper and concentrate the sunlight with the help of the mirror\"},{\"Do it yourself: Take a concave mirror with a focal length of 15cm or 20cm. Hold the mirror\":\"on it. Hold the mirror till the paper ignites.\"}]\n",
      "[{\"Making a model: Make a model of a\":\"hydroelectric station that uses the energy of\"},{\"Making a model: Make a model of a\":\"falling water to turn a turbine to operate a\"},{\"Making a model: Make a model of a\":\"dynamo to produce hydroelectricity. [Fig: 4.6]\"}]\n",
      "[{\"Calculate: If a substance of 1kg mass is converted completely into energy, then how many\":\"kilowatt energy will be produced? 1 kilowatt-hour (1 kWh) = 3.6 x 106 J\"}]\n",
      "[{\"Do it: Count the number of steps of the stairs to reach the roof of your school or house or any\":\"other building. Measure the height of the roof in meter. Measure your mass with the help of a\"},{\"Do it: Count the number of steps of the stairs to reach the roof of your school or house or any\":\"weight measuring machine in kilogram. Multiply your mass with 9.8 and then you will find your\"},{\"Do it: Count the number of steps of the stairs to reach the roof of your school or house or any\":\"weight in newton. Then run to the top of the roof. Measure the total time of reaching the roof\"},{\"Do it: Count the number of steps of the stairs to reach the roof of your school or house or any\":\"with the help of a stop watch.\"}]\n",
      "[{\"Readings\":\"1\",\"Nature of running\":\"Running fast\",\"Time required to reach\\nthe roof, t (s)\":\"\",\"mgh\\nPower=\\nt\\n(W)\":\"\"},{\"Readings\":\"2\",\"Nature of running\":\"Running slowly\",\"Time required to reach\\nthe roof, t (s)\":\"\",\"mgh\\nPower=\\nt\\n(W)\":\"\"},{\"Readings\":\"3\",\"Nature of running\":\"Walking fast\",\"Time required to reach\\nthe roof, t (s)\":\"\",\"mgh\\nPower=\\nt\\n(W)\":\"\"},{\"Readings\":\"4\",\"Nature of running\":\"Walking normally\",\"Time required to reach\\nthe roof, t (s)\":\"\",\"mgh\\nPower=\\nt\\n(W)\":\"\"},{\"Readings\":\"5\",\"Nature of running\":\"Walking slowly\",\"Time required to reach\\nthe roof, t (s)\":\"\",\"mgh\\nPower=\\nt\\n(W)\":\"\"}]\n",
      "[{\"Do it yourself: Hole a paper by a very sharp pin and by a blunt pin. Which one is easier to hole?\":\"Explain.\"}]\n",
      "[{\"Task: Take two jugs of equal volume. Fill up one jug with water and the other with honey.\":\"Lift both the jugs by your hands. Which one is felt heavier?\"}]\n",
      "[{\"Substances\":\"Air\",\"Density (kg-3)\":\"1.29\",\"Substances_1\":\"Water (at 4\\u00b0C)\",\"Density (kg-3)_1\":\"1000\"},{\"Substances\":\"Cork\",\"Density (kg-3)\":\"250\",\"Substances_1\":\"Iron\",\"Density (kg-3)_1\":\"7,800\"},{\"Substances\":\"Glycerin\",\"Density (kg-3)\":\"1260\",\"Substances_1\":\"Silver\",\"Density (kg-3)_1\":\"10,500\"},{\"Substances\":\"Ice\",\"Density (kg-3)\":\"920\",\"Substances_1\":\"Gold\",\"Density (kg-3)_1\":\"19,300\"}]\n",
      "[{\"Calculate: The surface area of the bottom of a rectangular block is 25cm2. It is dipped in\":\"water. Density of water is 1000kgm-3. The depth of the upper surface of the block from the\"},{\"Calculate: The surface area of the bottom of a rectangular block is 25cm2. It is dipped in\":\"open surface of the water is 5cm. If the height of the block is 2cm, then\"},{\"Calculate: The surface area of the bottom of a rectangular block is 25cm2. It is dipped in\":\"1. Find the water pressure P on the upper surface of the block\\n1\"},{\"Calculate: The surface area of the bottom of a rectangular block is 25cm2. It is dipped in\":\"2. Calculate the pressure P at the bottom of the block\\n2\"},{\"Calculate: The surface area of the bottom of a rectangular block is 25cm2. It is dipped in\":\"3. How much force will be applied by water on the upper surface of the block?\"},{\"Calculate: The surface area of the bottom of a rectangular block is 25cm2. It is dipped in\":\"4. How much force will be applied by water at the bottom of the block?\"},{\"Calculate: The surface area of the bottom of a rectangular block is 25cm2. It is dipped in\":\"Make comments on the results.\"}]\n",
      "[{\"Number\\nof\\nobservati\\nons\":\"1\",\"Mass of the\\nsolid\\nsubstance\\nM gm.\":\"\",\"Reading of the\\nupper level of\\nwater, before\\nthe immersion\\nof the body\\nV Cm3\\n1\":\"\",\"Reading of the\\nupper level of\\nwater, after\\nthe immersion\\nof the body\\nV Cm3\\n2\":\"\",\"Volume\\nof the\\nsolid body\\nV\\u2019= (V -\\n2\\nV )Cm3\\n1\":\"\",\"Average\\nVolume\\nVcm3\":\"\"},{\"Number\\nof\\nobservati\\nons\":\"2\",\"Mass of the\\nsolid\\nsubstance\\nM gm.\":\"\",\"Reading of the\\nupper level of\\nwater, before\\nthe immersion\\nof the body\\nV Cm3\\n1\":\"\",\"Reading of the\\nupper level of\\nwater, after\\nthe immersion\\nof the body\\nV Cm3\\n2\":\"\",\"Volume\\nof the\\nsolid body\\nV\\u2019= (V -\\n2\\nV )Cm3\\n1\":\"\",\"Average\\nVolume\\nVcm3\":\"\"},{\"Number\\nof\\nobservati\\nons\":\"3\",\"Mass of the\\nsolid\\nsubstance\\nM gm.\":\"\",\"Reading of the\\nupper level of\\nwater, before\\nthe immersion\\nof the body\\nV Cm3\\n1\":\"\",\"Reading of the\\nupper level of\\nwater, after\\nthe immersion\\nof the body\\nV Cm3\\n2\":\"\",\"Volume\\nof the\\nsolid body\\nV\\u2019= (V -\\n2\\nV )Cm3\\n1\":\"\",\"Average\\nVolume\\nVcm3\":\"\"}]\n",
      "[{\"Experiment: Pouring some water in a container and supplying heat the gradual increase of\":\"temperature would be observed. At a certain temperature the water will begin to boil and get\"},{\"Experiment: Pouring some water in a container and supplying heat the gradual increase of\":\"converted into water vapor. It is called boiling. So, it is understood that liquid may be converted\"},{\"Experiment: Pouring some water in a container and supplying heat the gradual increase of\":\"into its gaseous state at any temperature or at its boiling point.\"}]\n",
      "[{\"Do it yourself: Press two pieces of ice together for some time keeping them in contact with each\":\"other and then release. What do you observe? The pieces of ice have joined together. Why?\"}]\n",
      "[{\"Matter\":\"Water\",\"Specific Heat (Jkg-1K-1)\":\"4200\"}]\n",
      "[{\"Matter\":\"Ice\",\"Specific Heat (Jkg-1K-1)\":\"2100\"},{\"Matter\":\"Water Vapor\",\"Specific Heat (Jkg-1K-1)\":\"2000\"},{\"Matter\":\"Lead\",\"Specific Heat (Jkg-1K-1)\":\"130\"},{\"Matter\":\"Copper\",\"Specific Heat (Jkg-1K-1)\":\"400\"},{\"Matter\":\"Silver\",\"Specific Heat (Jkg-1K-1)\":\"230\"}]\n",
      "[{\"Task: Take a long rope as in the figure. Attach one end of the rope with a strong support.\":\"Move your hand right and left or up and down by holding the other end.\"}]\n",
      "[{\"Activities: Take water in a brass bowl. Strike the bowl. You can hear sound. Small waves are\":\"seen on the water. Now hold the bowl by your hand. Can you hear sound now? Is there any\"},{\"Activities: Take water in a brass bowl. Strike the bowl. You can hear sound. Small waves are\":\"wave in water?\"}]\n",
      "[{\"Do it yourself: Take two empty pots of tin. Connect the pots with a thin wire of\":\"approximately twenty meter long. Your friend is speaking through a pot. Try to hear that\"},{\"Do it yourself: Take two empty pots of tin. Connect the pots with a thin wire of\":\"sound by putting your ear in contact with another pot.\"}]\n",
      "[{\"Observation: While walking or travelling in vehicle on a pitch covered road during summer\":\"days you may have noticed that the road is wet and silvery. It seems that there is water on the\"},{\"Observation: While walking or travelling in vehicle on a pitch covered road during summer\":\"road. A similar phenomenon like mirage in a desert has happened here.\"}]\n",
      "[{\"Name of person\":\"\",\"Approximate age\":\"\",\"Least distance of\\ndistinct vision\":\"\",\"Recommended Spectacles\\n(If necessary)\":\"\"},{\"Name of person\":\"\",\"Approximate age\":\"\",\"Least distance of\\ndistinct vision\":\"\",\"Recommended Spectacles\\n(If necessary)\":\"\"},{\"Name of person\":\"\",\"Approximate age\":\"\",\"Least distance of\\ndistinct vision\":\"\",\"Recommended Spectacles\\n(If necessary)\":\"\"},{\"Name of person\":\"\",\"Approximate age\":\"\",\"Least distance of\\ndistinct vision\":\"\",\"Recommended Spectacles\\n(If necessary)\":\"\"},{\"Name of person\":\"\",\"Approximate age\":\"\",\"Least distance of\\ndistinct vision\":\"\",\"Recommended Spectacles\\n(If necessary)\":\"\"}]\n",
      "[{\"Experiment: Suspend a light pith ball freely with a string from a stand or a hook. Rub one end\":\"of a glass rod with a piece of dry silk cloth very well. It will be more convenient if the glass\"},{\"Experiment: Suspend a light pith ball freely with a string from a stand or a hook. Rub one end\":\"rod and the silk are dried to make them warm. Now bring the rubbed end of the glass rod near\"},{\"Experiment: Suspend a light pith ball freely with a string from a stand or a hook. Rub one end\":\"the freely suspended pith ball.\"}]\n",
      "[{\"Extended activities: Rub a balloon full of air with your shirt. Then press the balloon with the\":\"wall of your house for a while and then release it. What did you observe? The balloon\"},{\"Extended activities: Rub a balloon full of air with your shirt. Then press the balloon with the\":\"becomes attached to the wall.\"},{\"Extended activities: Rub a balloon full of air with your shirt. Then press the balloon with the\":\"Extended activities: Rub a plastic object with your shirt. Then hold it near a narrow flow of\"},{\"Extended activities: Rub a balloon full of air with your shirt. Then press the balloon with the\":\"water falling from a tap. The flow of water will bend towards the plastic object.\"}]\n",
      "[{\"Device\":\"Switch\",\"Symbol\":\"\"},{\"Device\":\"Cell\",\"Symbol\":\"\"},{\"Device\":\"Battery\",\"Symbol\":\"\"},{\"Device\":\"Fixed resistor\",\"Symbol\":\"\"},{\"Device\":\"Variable resistor\",\"Symbol\":\"\"},{\"Device\":\"Fuse\",\"Symbol\":\"\"},{\"Device\":\"Ammeter\",\"Symbol\":\"\"},{\"Device\":\"Voltmeter\",\"Symbol\":\"\"},{\"Device\":\"Galvanometer\",\"Symbol\":\"\"},{\"Device\":\"Earth connector\",\"Symbol\":\"\"},{\"Device\":\"Wires crossed\",\"Symbol\":\"\"},{\"Device\":\"Wires not connected\",\"Symbol\":\"\"},{\"Device\":\"Bulb\",\"Symbol\":\"or\"}]\n",
      "[{\"Experiment:Measure the potential difference between the two terminals of a dry cell. This is\":\"the electromotive force. Now connect this cell to the bulb and again measure the potential\"},{\"Experiment:Measure the potential difference between the two terminals of a dry cell. This is\":\"difference between the two terminals of the cell.\"}]\n",
      "[{\"Material\":\"Silver\",\"Resistivity (\\u2126 m)\":\"1.6\\u00d710-8\"},{\"Material\":\"Copper\",\"Resistivity (\\u2126 m)\":\"1.7\\u00d710-8\"},{\"Material\":\"Tungsten\",\"Resistivity (\\u2126 m)\":\"5.5\\u00d710-8\"},{\"Material\":\"Nichrome\",\"Resistivity (\\u2126 m)\":\"100\\u00d710-8\"}]\n",
      "[{\"Do yourself: If there is an electrical connection in the house you are dwelling in, then prepare\":\"a list of the electric devices those are in that house. From this, determine the probable amount\"},{\"Do yourself: If there is an electrical connection in the house you are dwelling in, then prepare\":\"of electrical energy to be consumed for one month.\"}]\n",
      "[{\"re (L)\":\"re\"},{\"re (L)\":\"\"},{\"re (L)\":null}]\n",
      "[{\"Do yourself. Make a circuit like the picture aside. Place a\":\"compass under the wire as if it faced to North-South. Now let\"},{\"Do yourself. Make a circuit like the picture aside. Place a\":\"the switch on. What is happening to the needle of compass?\"}]\n"
     ]
    }
   ],
   "source": [
    "for i in table_jsons: print(i)"
   ]
  },
  {
   "cell_type": "code",
   "execution_count": 22,
   "metadata": {},
   "outputs": [
    {
     "data": {
      "text/plain": [
       "43"
      ]
     },
     "execution_count": 22,
     "metadata": {},
     "output_type": "execute_result"
    }
   ],
   "source": [
    "len(table_jsons)"
   ]
  },
  {
   "cell_type": "code",
   "execution_count": 23,
   "metadata": {},
   "outputs": [],
   "source": [
    "# Create documents for the tables\n",
    "\n",
    "# table_data = [Document(page_content=text, metadata={'source': 'table'}) for text in table_jsons]\n",
    "table_data = [Document(page_content=text, metadata={'source': 'table', 'page': i, 'type': \"table\"}) for i, text in enumerate (table_jsons)]\n",
    "\n",
    "# table_data = [\n",
    "#     {\"page_content\": text, \"metadata\": {\"type\": \"table\", \"source\": \"table\", \"page\": i}} \n",
    "#     for i, text in enumerate(table_jsons)\n",
    "# ]"
   ]
  },
  {
   "cell_type": "code",
   "execution_count": 24,
   "metadata": {},
   "outputs": [
    {
     "data": {
      "text/plain": [
       "[Document(metadata={'source': 'table', 'page': 0, 'type': 'table'}, page_content='[{\"Chapter\":\"One\",\"Subject\":\"PHYSICAL QUANTITIES AND MEASUREMENT\",\"Page No\":\"1-25\"},{\"Chapter\":\"Two\",\"Subject\":\"MOTION\",\"Page No\":\"26-47\"},{\"Chapter\":\"Three\",\"Subject\":\"FORCE\",\"Page No\":\"48-67\"},{\"Chapter\":\"Four\",\"Subject\":\"WORK, POWER AND ENERGY\",\"Page No\":\"68-86\"},{\"Chapter\":\"Five\",\"Subject\":\"PRESSURE AND STATES OF MATTER\",\"Page No\":\"87-99\"},{\"Chapter\":\"Six\",\"Subject\":\"EFFECT OF HEAT ON SUBSTANCES\",\"Page No\":\"100-113\"},{\"Chapter\":\"Seven\",\"Subject\":\"WAVES AND SOUND\",\"Page No\":\"114-125\"},{\"Chapter\":\"Eight\",\"Subject\":\"REFLECTION OF LIGHT\",\"Page No\":\"126-141\"},{\"Chapter\":\"Nine\",\"Subject\":\"REFRACTION OF LIGHT\",\"Page No\":\"142-159\"},{\"Chapter\":\"Ten\",\"Subject\":\"STATICAL ELECTRICITY\",\"Page No\":\"160-174\"},{\"Chapter\":\"Eleven\",\"Subject\":\"CURRENT ELECTRICITY\",\"Page No\":\"175-197\"},{\"Chapter\":\"Twelve\",\"Subject\":\"MAGNETIC EFFECT OF CURRENT\",\"Page No\":\"198-208\"},{\"Chapter\":\"Thirteen\",\"Subject\":\"MODERN PHYSICS AND ELECTRONICS\",\"Page No\":\"209-226\"},{\"Chapter\":\"Fourteen\",\"Subject\":\"PHYSICS TO SAVE LIFE\",\"Page No\":\"227-240\"},{\"Chapter\":\"\",\"Subject\":null,\"Page No\":null}]'),\n",
       " Document(metadata={'source': 'table', 'page': 1, 'type': 'table'}, page_content='[{\"SL No\":\"1\",\"Name of Physical Quantities\":\"Length\",\"Symbol of\\\\nquantities\":\"L\",\"SI Unit\":\"meter\",\"Symbol\\\\nfor unit\":\"m\"},{\"SL No\":\"2\",\"Name of Physical Quantities\":\"Mass\",\"Symbol of\\\\nquantities\":\"m\",\"SI Unit\":\"kilogram\",\"Symbol\\\\nfor unit\":\"kg\"},{\"SL No\":\"3\",\"Name of Physical Quantities\":\"Time\",\"Symbol of\\\\nquantities\":\"T\",\"SI Unit\":\"second\",\"Symbol\\\\nfor unit\":\"s\"},{\"SL No\":\"4\",\"Name of Physical Quantities\":\"Temperature\",\"Symbol of\\\\nquantities\":\"\\\\u03b8,T\",\"SI Unit\":\"Kelvin\",\"Symbol\\\\nfor unit\":\"k\"},{\"SL No\":\"5\",\"Name of Physical Quantities\":\"Electric current\",\"Symbol of\\\\nquantities\":\"I\",\"SI Unit\":\"ampere\",\"Symbol\\\\nfor unit\":\"A\"},{\"SL No\":\"6\",\"Name of Physical Quantities\":\"Luminous intensity\",\"Symbol of\\\\nquantities\":\"I\\\\nV\",\"SI Unit\":\"candela\",\"Symbol\\\\nfor unit\":\"cd\"},{\"SL No\":\"7\",\"Name of Physical Quantities\":\"Amount of substance\",\"Symbol of\\\\nquantities\":\"n\",\"SI Unit\":\"mole\",\"Symbol\\\\nfor unit\":\"mol\"}]'),\n",
       " Document(metadata={'source': 'table', 'page': 2, 'type': 'table'}, page_content='[{\"desi\":\"centi\",\"10-1\":\"10-2\",\"d\":\"c\",\"1 deci ohm = 1 d\\\\u2126 = 10-1\\\\u2126\":\"1 centimeter = 1 cm = 10-2m\"},{\"desi\":\"milli\",\"10-1\":\"10-3\",\"d\":\"m\",\"1 deci ohm = 1 d\\\\u2126 = 10-1\\\\u2126\":\"1 mili ampere = 1 mA = 10-3A\"},{\"desi\":\"micro\",\"10-1\":\"10-6\",\"d\":\"\\\\u00b5\",\"1 deci ohm = 1 d\\\\u2126 = 10-1\\\\u2126\":\"1 micro volt = 1 \\\\u00b5V = 10-6V\"},{\"desi\":\"nano\",\"10-1\":\"10-9\",\"d\":\"n\",\"1 deci ohm = 1 d\\\\u2126 = 10-1\\\\u2126\":\"1 nano second = 1ns = 10-9s\"},{\"desi\":\"pico\",\"10-1\":\"10-12\",\"d\":\"p\",\"1 deci ohm = 1 d\\\\u2126 = 10-1\\\\u2126\":\"1 pico farad = 1 pf = 10-12f\"},{\"desi\":\"femto\",\"10-1\":\"10-15\",\"d\":\"f\",\"1 deci ohm = 1 d\\\\u2126 = 10-1\\\\u2126\":\"1 femto meter = 1 fm = 10-15m\"},{\"desi\":\"atto\",\"10-1\":\"10-18\",\"d\":\"a\",\"1 deci ohm = 1 d\\\\u2126 = 10-1\\\\u2126\":\"1 atto watt = 1 aW = 10-18W\"}]'),\n",
       " Document(metadata={'source': 'table', 'page': 3, 'type': 'table'}, page_content='[{\"Rectangular\\\\nbody\\\\u2019s\":\"Length\\\\nL\",\"Number of\\\\nobservation\":\"1\",\"main\\\\nscale\\\\nreading\\\\nM (cm)\":\"\",\"Vernier\\\\nsuper\\\\nimposition\\\\nV\":\"\",\"Vernier\\\\nconstant\\\\nVC (cm)\":\"\",\"Reading\\\\nM + V x\\\\nVC\\\\n(cm)\":\"\",\"Mean\\\\nreading\\\\n(cm)\":\"\"},{\"Rectangular\\\\nbody\\\\u2019s\":null,\"Number of\\\\nobservation\":\"2\",\"main\\\\nscale\\\\nreading\\\\nM (cm)\":\"\",\"Vernier\\\\nsuper\\\\nimposition\\\\nV\":\"\",\"Vernier\\\\nconstant\\\\nVC (cm)\":\"\",\"Reading\\\\nM + V x\\\\nVC\\\\n(cm)\":\"\",\"Mean\\\\nreading\\\\n(cm)\":\"\"},{\"Rectangular\\\\nbody\\\\u2019s\":null,\"Number of\\\\nobservation\":\"3\",\"main\\\\nscale\\\\nreading\\\\nM (cm)\":\"\",\"Vernier\\\\nsuper\\\\nimposition\\\\nV\":\"\",\"Vernier\\\\nconstant\\\\nVC (cm)\":\"\",\"Reading\\\\nM + V x\\\\nVC\\\\n(cm)\":\"\",\"Mean\\\\nreading\\\\n(cm)\":\"\"},{\"Rectangular\\\\nbody\\\\u2019s\":\"Breadth\\\\nB\",\"Number of\\\\nobservation\":\"1\",\"main\\\\nscale\\\\nreading\\\\nM (cm)\":\"\",\"Vernier\\\\nsuper\\\\nimposition\\\\nV\":\"\",\"Vernier\\\\nconstant\\\\nVC (cm)\":\"\",\"Reading\\\\nM + V x\\\\nVC\\\\n(cm)\":\"\",\"Mean\\\\nreading\\\\n(cm)\":\"\"},{\"Rectangular\\\\nbody\\\\u2019s\":null,\"Number of\\\\nobservation\":\"2\",\"main\\\\nscale\\\\nreading\\\\nM (cm)\":\"\",\"Vernier\\\\nsuper\\\\nimposition\\\\nV\":\"\",\"Vernier\\\\nconstant\\\\nVC (cm)\":\"\",\"Reading\\\\nM + V x\\\\nVC\\\\n(cm)\":\"\",\"Mean\\\\nreading\\\\n(cm)\":\"\"},{\"Rectangular\\\\nbody\\\\u2019s\":null,\"Number of\\\\nobservation\":\"3\",\"main\\\\nscale\\\\nreading\\\\nM (cm)\":\"\",\"Vernier\\\\nsuper\\\\nimposition\\\\nV\":\"\",\"Vernier\\\\nconstant\\\\nVC (cm)\":\"\",\"Reading\\\\nM + V x\\\\nVC\\\\n(cm)\":\"\",\"Mean\\\\nreading\\\\n(cm)\":\"\"},{\"Rectangular\\\\nbody\\\\u2019s\":\"Height\\\\nH\",\"Number of\\\\nobservation\":\"1\",\"main\\\\nscale\\\\nreading\\\\nM (cm)\":\"\",\"Vernier\\\\nsuper\\\\nimposition\\\\nV\":\"\",\"Vernier\\\\nconstant\\\\nVC (cm)\":\"\",\"Reading\\\\nM + V x\\\\nVC\\\\n(cm)\":\"\",\"Mean\\\\nreading\\\\n(cm)\":\"\"},{\"Rectangular\\\\nbody\\\\u2019s\":null,\"Number of\\\\nobservation\":\"2\",\"main\\\\nscale\\\\nreading\\\\nM (cm)\":\"\",\"Vernier\\\\nsuper\\\\nimposition\\\\nV\":\"\",\"Vernier\\\\nconstant\\\\nVC (cm)\":\"\",\"Reading\\\\nM + V x\\\\nVC\\\\n(cm)\":\"\",\"Mean\\\\nreading\\\\n(cm)\":\"\"},{\"Rectangular\\\\nbody\\\\u2019s\":null,\"Number of\\\\nobservation\":\"3\",\"main\\\\nscale\\\\nreading\\\\nM (cm)\":\"\",\"Vernier\\\\nsuper\\\\nimposition\\\\nV\":\"\",\"Vernier\\\\nconstant\\\\nVC (cm)\":\"\",\"Reading\\\\nM + V x\\\\nVC\\\\n(cm)\":\"\",\"Mean\\\\nreading\\\\n(cm)\":\"\"}]'),\n",
       " Document(metadata={'source': 'table', 'page': 4, 'type': 'table'}, page_content='[{\"Number\\\\nof\\\\nobservati\\\\non\":\"1\",\"Linear\\\\nscale\\\\nreadin\\\\ng L\\\\n(mm)\":\"\",\"Number\\\\nof\\\\ndivisions\\\\nin the\\\\ncircular\\\\nscale C\":\"\",\"Least\\\\ncount LC\\\\n(mm)\":\"\",\"Diameter\\\\nd = L + C x LC\\\\n(mm)\":\"\",\"Average\\\\ndiameter\\\\nd = d \\\\u00b1e\\\\n(mm)\":\"\"},{\"Number\\\\nof\\\\nobservati\\\\non\":\"2\",\"Linear\\\\nscale\\\\nreadin\\\\ng L\\\\n(mm)\":\"\",\"Number\\\\nof\\\\ndivisions\\\\nin the\\\\ncircular\\\\nscale C\":\"\",\"Least\\\\ncount LC\\\\n(mm)\":\"\",\"Diameter\\\\nd = L + C x LC\\\\n(mm)\":\"\",\"Average\\\\ndiameter\\\\nd = d \\\\u00b1e\\\\n(mm)\":\"\"},{\"Number\\\\nof\\\\nobservati\\\\non\":\"3\",\"Linear\\\\nscale\\\\nreadin\\\\ng L\\\\n(mm)\":\"\",\"Number\\\\nof\\\\ndivisions\\\\nin the\\\\ncircular\\\\nscale C\":\"\",\"Least\\\\ncount LC\\\\n(mm)\":\"\",\"Diameter\\\\nd = L + C x LC\\\\n(mm)\":\"\",\"Average\\\\ndiameter\\\\nd = d \\\\u00b1e\\\\n(mm)\":\"\"},{\"Number\\\\nof\\\\nobservati\\\\non\":\"4\",\"Linear\\\\nscale\\\\nreadin\\\\ng L\\\\n(mm)\":\"\",\"Number\\\\nof\\\\ndivisions\\\\nin the\\\\ncircular\\\\nscale C\":\"\",\"Least\\\\ncount LC\\\\n(mm)\":\"\",\"Diameter\\\\nd = L + C x LC\\\\n(mm)\":\"\",\"Average\\\\ndiameter\\\\nd = d \\\\u00b1e\\\\n(mm)\":\"\"},{\"Number\\\\nof\\\\nobservati\\\\non\":\"5\",\"Linear\\\\nscale\\\\nreadin\\\\ng L\\\\n(mm)\":\"\",\"Number\\\\nof\\\\ndivisions\\\\nin the\\\\ncircular\\\\nscale C\":\"\",\"Least\\\\ncount LC\\\\n(mm)\":\"\",\"Diameter\\\\nd = L + C x LC\\\\n(mm)\":\"\",\"Average\\\\ndiameter\\\\nd = d \\\\u00b1e\\\\n(mm)\":\"\"}]')]"
      ]
     },
     "execution_count": 24,
     "metadata": {},
     "output_type": "execute_result"
    }
   ],
   "source": [
    "table_data[:5]"
   ]
  },
  {
   "cell_type": "code",
   "execution_count": 25,
   "metadata": {},
   "outputs": [],
   "source": [
    "# combine table data with pdf text contents\n",
    "combined_data = cleaned_data + table_data"
   ]
  },
  {
   "cell_type": "code",
   "execution_count": 26,
   "metadata": {},
   "outputs": [
    {
     "name": "stdout",
     "output_type": "stream",
     "text": [
      "size of cleaned_data:\t 246\n",
      "size of table_data:\t 43\n",
      "size of combined_data:\t 289\n"
     ]
    }
   ],
   "source": [
    "# new size of data\n",
    "print(\"size of cleaned_data:\\t\",len(cleaned_data))\n",
    "print(\"size of table_data:\\t\",len(table_data))\n",
    "print(\"size of combined_data:\\t\",len(combined_data))\n"
   ]
  },
  {
   "cell_type": "code",
   "execution_count": 27,
   "metadata": {},
   "outputs": [
    {
     "data": {
      "text/plain": [
       "Document(metadata={'source': 'phy_book.pdf', 'page': 0, 'math_expressions': ''}, page_content='')"
      ]
     },
     "execution_count": 27,
     "metadata": {},
     "output_type": "execute_result"
    }
   ],
   "source": [
    "combined_data[0]"
   ]
  },
  {
   "cell_type": "code",
   "execution_count": 28,
   "metadata": {},
   "outputs": [
    {
     "data": {
      "text/plain": [
       "[Document(metadata={'source': 'table', 'page': 38, 'type': 'table'}, page_content='[{\"Experiment:Measure the potential difference between the two terminals of a dry cell. This is\":\"the electromotive force. Now connect this cell to the bulb and again measure the potential\"},{\"Experiment:Measure the potential difference between the two terminals of a dry cell. This is\":\"difference between the two terminals of the cell.\"}]'),\n",
       " Document(metadata={'source': 'table', 'page': 39, 'type': 'table'}, page_content='[{\"Material\":\"Silver\",\"Resistivity (\\\\u2126 m)\":\"1.6\\\\u00d710-8\"},{\"Material\":\"Copper\",\"Resistivity (\\\\u2126 m)\":\"1.7\\\\u00d710-8\"},{\"Material\":\"Tungsten\",\"Resistivity (\\\\u2126 m)\":\"5.5\\\\u00d710-8\"},{\"Material\":\"Nichrome\",\"Resistivity (\\\\u2126 m)\":\"100\\\\u00d710-8\"}]'),\n",
       " Document(metadata={'source': 'table', 'page': 40, 'type': 'table'}, page_content='[{\"Do yourself: If there is an electrical connection in the house you are dwelling in, then prepare\":\"a list of the electric devices those are in that house. From this, determine the probable amount\"},{\"Do yourself: If there is an electrical connection in the house you are dwelling in, then prepare\":\"of electrical energy to be consumed for one month.\"}]'),\n",
       " Document(metadata={'source': 'table', 'page': 41, 'type': 'table'}, page_content='[{\"re (L)\":\"re\"},{\"re (L)\":\"\"},{\"re (L)\":null}]'),\n",
       " Document(metadata={'source': 'table', 'page': 42, 'type': 'table'}, page_content='[{\"Do yourself. Make a circuit like the picture aside. Place a\":\"compass under the wire as if it faced to North-South. Now let\"},{\"Do yourself. Make a circuit like the picture aside. Place a\":\"the switch on. What is happening to the needle of compass?\"}]')]"
      ]
     },
     "execution_count": 28,
     "metadata": {},
     "output_type": "execute_result"
    }
   ],
   "source": [
    "table_data[-5:]"
   ]
  },
  {
   "cell_type": "code",
   "execution_count": 29,
   "metadata": {},
   "outputs": [
    {
     "data": {
      "text/plain": [
       "[Document(metadata={'source': 'table', 'page': 38, 'type': 'table'}, page_content='[{\"Experiment:Measure the potential difference between the two terminals of a dry cell. This is\":\"the electromotive force. Now connect this cell to the bulb and again measure the potential\"},{\"Experiment:Measure the potential difference between the two terminals of a dry cell. This is\":\"difference between the two terminals of the cell.\"}]'),\n",
       " Document(metadata={'source': 'table', 'page': 39, 'type': 'table'}, page_content='[{\"Material\":\"Silver\",\"Resistivity (\\\\u2126 m)\":\"1.6\\\\u00d710-8\"},{\"Material\":\"Copper\",\"Resistivity (\\\\u2126 m)\":\"1.7\\\\u00d710-8\"},{\"Material\":\"Tungsten\",\"Resistivity (\\\\u2126 m)\":\"5.5\\\\u00d710-8\"},{\"Material\":\"Nichrome\",\"Resistivity (\\\\u2126 m)\":\"100\\\\u00d710-8\"}]'),\n",
       " Document(metadata={'source': 'table', 'page': 40, 'type': 'table'}, page_content='[{\"Do yourself: If there is an electrical connection in the house you are dwelling in, then prepare\":\"a list of the electric devices those are in that house. From this, determine the probable amount\"},{\"Do yourself: If there is an electrical connection in the house you are dwelling in, then prepare\":\"of electrical energy to be consumed for one month.\"}]'),\n",
       " Document(metadata={'source': 'table', 'page': 41, 'type': 'table'}, page_content='[{\"re (L)\":\"re\"},{\"re (L)\":\"\"},{\"re (L)\":null}]'),\n",
       " Document(metadata={'source': 'table', 'page': 42, 'type': 'table'}, page_content='[{\"Do yourself. Make a circuit like the picture aside. Place a\":\"compass under the wire as if it faced to North-South. Now let\"},{\"Do yourself. Make a circuit like the picture aside. Place a\":\"the switch on. What is happening to the needle of compass?\"}]')]"
      ]
     },
     "execution_count": 29,
     "metadata": {},
     "output_type": "execute_result"
    }
   ],
   "source": [
    "combined_data[-5:]"
   ]
  },
  {
   "cell_type": "code",
   "execution_count": 30,
   "metadata": {},
   "outputs": [
    {
     "data": {
      "text/plain": [
       "[Document(metadata={'source': 'phy_book.pdf', 'page': 0, 'math_expressions': ''}, page_content=''),\n",
       " Document(metadata={'source': 'phy_book.pdf', 'page': 1, 'math_expressions': ''}, page_content=' Prescribed by National Curriculum and Textbook Board as a Textbook for Classes Nine- Ten from the academic Year 2013 Physics [ Classes-IX-X ] Written by Dr. Shahjahan Tapan Dr. Rana Chowdhury Dr. Ekram Ali Sheikh Dr. Rama Bijoy Sarker Edited by Dr. Ali Asgar Translated by Dr. Rama Bijoy Sarker Subed Chandra Paul Md. Khairul Alam National Curriculum and Textbook Board, Dhaka'),\n",
       " Document(metadata={'source': 'phy_book.pdf', 'page': 2, 'math_expressions': '69-70'}, page_content='Published by National Curriculum and Textbook Board 69-70, Motijheel Commercial Area, Dhaka [All rights reserved by the Publisher] Trial Edition First Publication : December 2012 Coordinated by Md. Mukhlesur Rahman Computer Compose Laser Scan Ltd. Cover Sudarshan Bachar Sujaul Abedeen Illustrator Md. Hasanul Kabir Sohag Design National Curriculum and Textbook Board For Free Distribution from academic year 2012 by the Government of Bangladesh Printed by :'),\n",
       " Document(metadata={'source': 'phy_book.pdf', 'page': 3, 'math_expressions': ''}, page_content='PREFACE Education is the pre-requisite for the holistic development in our national life. To cope with the challenges of the fast changing world and to lead Bangladesh to the doorstep of development and prosperity, a well educated and skilled population is needed. In order to build up a nation imbued with the spirit of the Language Movement and our Liberation War, the secondary education aims at flourishing the talents and prospects inherent in the learners. Besides, the other aims also include expansion and consolidation of the basic knowledge and skills of the learners acquired at the primary level in order to make them fit for entry into higher education. The aims of secondary education further emphasise on developing these learners as skilled and competent citizens of the country through the process of acquiring knowledge at the backdrop of socio-economic, cultural and environmental settings. Keeping the aims and objectives of National Education Policy 2010 ahead, the curriculum at the secondary level has been revised. In the revised curriculum the national aims, objectives and contemporary needs have been reflected. Along with these expected learning outcomes have been determined based on the learner‘s age, merit and level of acquisition. Besides, efforts have been made to raise, starting from the level of moral and humanistic values down to awareness on history and tradition, the spirit of the Liberation War, passion for art-culture and literature, patriotism, feelings for nature and equal dignity to all irrespective of religions, caste, creed and sex. Efforts have also been made to apply science in all spheres of our life in order to build a nation advanced in science. Attempts are also there to make the learner capable of implementing the goals envisioned in Digital Bangladesh-2021. In the light of the present curriculum almost all the textbooks at the secondary level have been introduced. While introducing the textbooks, the capacity, aptitude and prior knowledge of the learners have been taken into utmost consideration. While selecting the contexts and their presentation special attention has been given on the expansion of the learner’s creative faculty. Adding learning outcomes, at the beginning of each chapter, hints about the achievable knowledge of the learners have been given, By adding variety of activities, creative and other questions evaluation has also been made creative. Physics is inextricably related to the development of technology from the very beginning of civilization. Tools and techniques of physics are widely used in the field of engineering, astronomy, oceanography, biology, psychology etc. The study of physics is necessary for those who are interested in the above mention subjects. The theoretical and practical aspects are explained through read life situation. So it is expected that the learners will be inspired to study this subject for future. Considering the challenges and commitments of 21st century and following the revised curriculum the textbook has been written. Therefore we welcome with our highest consideration any suggestions, both constructive and rationale as well for the further improvement of the book. Amidst huge activities needed for introducing a textbook, this one has been written within a very short span of time frame. We will continue our effort to make the next edition of this book more beautiful, decent and free from any types of errors. We appreciate the endeavours of those who assisted very sincerely with their merit and hard work in the process of writing, translating editing, illustration, introducing sample questions and printing of the book. We hope the book will ensure joyful reading and achievement of expected skills from the learners. Prof. Md. Mostafa Kamaluddin Chairman National Curriculum and Textbook Board, Dhaka.'),\n",
       " Document(metadata={'source': 'phy_book.pdf', 'page': 4, 'math_expressions': '142-159; 227-240; 160-174; 175-197; 126-141; 100-113; 114-125; 209-226; 198-208; 48-67; 68-86; 87-99; 26-47; 1-25'}, page_content='One PHYSICAL QUANTITIES AND MEASUREMENT 1-25 Two MOTION 26-47 Three FORCE 48-67 Four WORK, POWER AND ENERGY 68-86 Five PRESSURE AND STATES OF MATTER 87-99 Six EFFECT OF HEAT ON SUBSTANCES 100-113 Seven WAVES AND SOUND 114-125 Eight REFLECTION OF LIGHT 126-141Nine REFRACTION OF LIGHT 142-159 Ten STATICAL ELECTRICITY 160-174Eleven CURRENT ELECTRICITY 175-197Twelve MAGNETIC EFFECT OF CURRENT 198-208Thirteen MODERN PHYSICS AND ELECTRONICS 209-226Fourteen PHYSICS TO SAVE LIFE 227-240CONTENTS Chapter Subject Page No')]"
      ]
     },
     "execution_count": 30,
     "metadata": {},
     "output_type": "execute_result"
    }
   ],
   "source": [
    "combined_data[:5]"
   ]
  },
  {
   "cell_type": "markdown",
   "metadata": {},
   "source": [
    "## Split and Chunking"
   ]
  },
  {
   "cell_type": "code",
   "execution_count": 31,
   "metadata": {},
   "outputs": [],
   "source": [
    "# !pip install langchain_text_splitters"
   ]
  },
  {
   "cell_type": "code",
   "execution_count": 32,
   "metadata": {},
   "outputs": [],
   "source": [
    "# Split and chunk\n",
    "from langchain_text_splitters import RecursiveCharacterTextSplitter\n",
    "\n",
    "text_splitter = RecursiveCharacterTextSplitter(\n",
    "    chunk_size = 500,\n",
    "    chunk_overlap = 50,\n",
    "    length_function = len,\n",
    ")\n",
    "chunked_document = text_splitter.split_documents(combined_data)"
   ]
  },
  {
   "cell_type": "code",
   "execution_count": 33,
   "metadata": {},
   "outputs": [
    {
     "data": {
      "text/plain": [
       "Document(metadata={'source': 'phy_book.pdf', 'page': 1, 'math_expressions': ''}, page_content='Prescribed by National Curriculum and Textbook Board as a Textbook for Classes Nine- Ten from the academic Year 2013 Physics [ Classes-IX-X ] Written by Dr. Shahjahan Tapan Dr. Rana Chowdhury Dr. Ekram Ali Sheikh Dr. Rama Bijoy Sarker Edited by Dr. Ali Asgar Translated by Dr. Rama Bijoy Sarker Subed Chandra Paul Md. Khairul Alam National Curriculum and Textbook Board, Dhaka')"
      ]
     },
     "execution_count": 33,
     "metadata": {},
     "output_type": "execute_result"
    }
   ],
   "source": [
    "chunked_document[0]"
   ]
  },
  {
   "cell_type": "code",
   "execution_count": 34,
   "metadata": {},
   "outputs": [
    {
     "name": "stdout",
     "output_type": "stream",
     "text": [
      "Prescribed by National Curriculum and Textbook Board as a Textbook for Classes Nine- Ten from the academic Year 2013 Physics [ Classes-IX-X ] Written by Dr. Shahjahan Tapan Dr. Rana Chowdhury Dr. Ekram Ali Sheikh Dr. Rama Bijoy Sarker Edited by Dr. Ali Asgar Translated by Dr. Rama Bijoy Sarker Subed Chandra Paul Md. Khairul Alam National Curriculum and Textbook Board, Dhaka\n"
     ]
    }
   ],
   "source": [
    "print(chunked_document[0].page_content)"
   ]
  },
  {
   "cell_type": "markdown",
   "metadata": {},
   "source": [
    "## Filter Metadata before storing in ChromaDB"
   ]
  },
  {
   "cell_type": "code",
   "execution_count": null,
   "metadata": {},
   "outputs": [],
   "source": [
    "# def filter_complex_metadata(metadata):\n",
    "#     \"\"\"\n",
    "#     Filter out complex metadata values. Only keep str, int, float, or bool values.\n",
    "#     \"\"\"\n",
    "#     filtered_metadata = {}\n",
    "#     for key, value in metadata.items():\n",
    "#         if isinstance(value, (str, int, float, bool)):\n",
    "#             filtered_metadata[key] = value\n",
    "#         else:\n",
    "#             filtered_metadata[key] = str(value)  # Convert complex types to string\n",
    "#     return filtered_metadata\n",
    "\n",
    "# # Apply metadata filtering\n",
    "# filtered_metadatas = [filter_complex_metadata(doc.metadata) for doc in chunked_document]\n"
   ]
  },
  {
   "cell_type": "markdown",
   "metadata": {},
   "source": [
    "## Vector Embedding"
   ]
  },
  {
   "cell_type": "code",
   "execution_count": 35,
   "metadata": {},
   "outputs": [],
   "source": [
    "# Embed the chunked document using OllamaEmbeddings (nomic-embed-text)\n",
    "from langchain_ollama import OllamaEmbeddings\n",
    "embedding_model = OllamaEmbeddings(model=\"nomic-embed-text\")"
   ]
  },
  {
   "cell_type": "code",
   "execution_count": 35,
   "metadata": {},
   "outputs": [
    {
     "name": "stderr",
     "output_type": "stream",
     "text": [
      "C:\\Users\\almah\\AppData\\Local\\Temp\\ipykernel_3620\\3356662624.py:4: LangChainDeprecationWarning: The class `OllamaEmbeddings` was deprecated in LangChain 0.3.1 and will be removed in 1.0.0. An updated version of the class exists in the :class:`~langchain-ollama package and should be used instead. To use it run `pip install -U :class:`~langchain-ollama` and import as `from :class:`~langchain_ollama import OllamaEmbeddings``.\n",
      "  embedding = OllamaEmbeddings(model=\"nomic-embed-text\", show_progress=True)\n"
     ]
    }
   ],
   "source": [
    "# # Embed the chunked document using OllamaEmbeddings (nomic-embed-text)\n",
    "\n",
    "# from langchain_community.embeddings import OllamaEmbeddings\n",
    "# embedding = OllamaEmbeddings(model=\"nomic-embed-text\", show_progress=True)\n",
    "\n",
    "# # embedded_texts = embedding.embed_documents(chunked_document[x].page_content for x in chunked_document[len(chunked_document)-1])"
   ]
  },
  {
   "cell_type": "code",
   "execution_count": null,
   "metadata": {},
   "outputs": [],
   "source": [
    "# # # Embed the chunked document using SentenceTransformer (all-MiniLM-L6-v2)\n",
    "# from langchain_huggingface import HuggingFaceEmbeddings\n",
    "# embedding_model = HuggingFaceEmbeddings(model_name=\"all-MiniLM-L6-v2\")\n",
    "# # embedding = HuggingFaceEmbeddings(model_name='sentence-transformers/all-MiniLM-L6-v2')"
   ]
  },
  {
   "cell_type": "code",
   "execution_count": 39,
   "metadata": {},
   "outputs": [],
   "source": [
    "# # Example usage\n",
    "# sentence = \"This is a test sentence.\"\n",
    "# embedding = model.encode(sentence)\n",
    "\n",
    "# print(\"Sentence embedding:\", embedding)"
   ]
  },
  {
   "cell_type": "markdown",
   "metadata": {},
   "source": [
    "## Store in ChromaDB"
   ]
  },
  {
   "cell_type": "code",
   "execution_count": null,
   "metadata": {},
   "outputs": [],
   "source": [
    "# Create the Chroma vector store\n",
    "from langchain_chroma.vectorstores import Chroma\n",
    "try:\n",
    "    vector_db = Chroma.from_documents(\n",
    "        documents=chunked_document,\n",
    "        embedding=embedding_model,\n",
    "        collection_name=\"local-rag\",\n",
    "        persist_directory=\"./db/db_nomic\"\n",
    "    )\n",
    "    print(\"Embedded Documents stored in ChromaDB successfully!\")\n",
    "except Exception as e:\n",
    "    print(\"Error Occured:\\n\"+e)\n"
   ]
  },
  {
   "cell_type": "code",
   "execution_count": null,
   "metadata": {},
   "outputs": [],
   "source": []
  }
 ],
 "metadata": {
  "kernelspec": {
   "display_name": "Python 3 (ipykernel)",
   "language": "python",
   "name": "python3"
  },
  "language_info": {
   "codemirror_mode": {
    "name": "ipython",
    "version": 3
   },
   "file_extension": ".py",
   "mimetype": "text/x-python",
   "name": "python",
   "nbconvert_exporter": "python",
   "pygments_lexer": "ipython3",
   "version": "3.12.7"
  }
 },
 "nbformat": 4,
 "nbformat_minor": 4
}
