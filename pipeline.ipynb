{
 "cells": [
  {
   "cell_type": "markdown",
   "metadata": {},
   "source": [
    "## Ingesting PDF"
   ]
  },
  {
   "cell_type": "code",
   "execution_count": 1,
   "metadata": {},
   "outputs": [],
   "source": [
    "# !pip install langchain"
   ]
  },
  {
   "cell_type": "code",
   "execution_count": 2,
   "metadata": {},
   "outputs": [],
   "source": [
    "from langchain.document_loaders import PyPDFLoader\n",
    "\n",
    "pdf_path = \"phy_book_ch2.pdf\"\n",
    "if pdf_path:\n",
    "    loader = PyPDFLoader(file_path=pdf_path)\n",
    "    data = loader.load()\n",
    "else:\n",
    "    print(\"PDF not found\")"
   ]
  },
  {
   "cell_type": "markdown",
   "metadata": {},
   "source": [
    "## Data Inspection"
   ]
  },
  {
   "cell_type": "code",
   "execution_count": 3,
   "metadata": {},
   "outputs": [
    {
     "name": "stdout",
     "output_type": "stream",
     "text": [
      "42  Physics \n",
      " Distance – Time table  \n",
      "Time, t (min)  Distance s km  \n",
      "0 0 \n",
      "12 6 \n",
      "24 12 \n",
      "36 18 \n",
      "48 24 \n",
      "60 30 \n",
      "                     Table 2.3      Figure 2.5 \n",
      "For above mentioned motion in the table a distance-time graph shown in fig 2.5. \n",
      "Suppose from the graph we have to find the traveled distance in 32 minute by the auto-rickshaw; we have to mark a point (M) to indicate time, 32 minute on X-axis. Then we have to draw a line parallel to Y-axis from that point on the graph. Let the line at point P. Now draw a perpendicular on Y-axis from P. This perpendicular meets at point N on Y-axis. Therefore, ON is the distance traveled in 32 minutes. The graph shows that the auto-rickshaw travels 16km in this time. Therefore, from graph we find any traveled \n",
      "distance S = PM for any time t = OM. \n",
      "∴ Velocity = distance\n",
      "time\n",
      "    = PM\n",
      "OM    = ON\n",
      "OM , Here,  PM\n",
      "OM is the slope of the OP. \n",
      "  \n",
      "           \n",
      " \n",
      "(B) In case of Non-uniform velocity : Fig 2.6 represents a distance-time graph of a \n",
      "body moving with non-uniform velocity. In this case the body does not move over equal distance in equal intervals of time, so the graph will not be a straight line. It will be a curved line. Since, the body is not moving with  uniform velocity, its velocity will not be \n",
      "the same at all instants during its motion. Suppose, the velocity of the body at a particular instant indicated by the point P in the curved line, is to be determined. To determine the velocity at the point P, we will have to consider a very small right angled triangle ABC. Its hypotenuse AB is so small Do by yourself :  Take a graph paper. Draw the distance-time graph on the graph paper using \n",
      "any convenient unit mentioned in the table above.  Find the distance traveled and velocity of \n",
      "the auto-rickshaw in 32 minutes from the graph. What will be the distance traveled and \n",
      "velocit y in 44 minutes.  \n",
      "\n"
     ]
    }
   ],
   "source": [
    "# Preview first page\n",
    "print(data[16].page_content)\n",
    "# data"
   ]
  },
  {
   "cell_type": "code",
   "execution_count": 4,
   "metadata": {},
   "outputs": [
    {
     "name": "stdout",
     "output_type": "stream",
     "text": [
      "['LTFigure', 'LTLine', 'LTRect', 'LTTextBoxHorizontal', 'LTCurve', 'LTTextLineHorizontal']\n"
     ]
    }
   ],
   "source": [
    "# Elements in the pdf\n",
    "from pdfminer.high_level import extract_pages\n",
    "\n",
    "element_types = set()\n",
    "\n",
    "for page_layout in extract_pages(pdf_path):\n",
    "    for element in page_layout:\n",
    "        element_types.add(type(element).__name__)\n",
    "\n",
    "print(list(element_types))"
   ]
  },
  {
   "cell_type": "markdown",
   "metadata": {},
   "source": [
    "## Remove Extra Whitespace"
   ]
  },
  {
   "cell_type": "code",
   "execution_count": 5,
   "metadata": {},
   "outputs": [],
   "source": [
    "import re\n",
    "from langchain.schema import Document\n",
    "\n",
    "# Remove extra whitespace\n",
    "def clean_text(text):\n",
    "    text = re.sub(r'\\s+', ' ', text)\n",
    "    return text\n",
    "\n",
    "cleaned_data = []\n",
    "for doc in data:\n",
    "    cleaned_data.append(Document(page_content=clean_text(doc.page_content), metadata=doc.metadata))\n"
   ]
  },
  {
   "cell_type": "code",
   "execution_count": 6,
   "metadata": {},
   "outputs": [
    {
     "name": "stdout",
     "output_type": "stream",
     "text": [
      "42 Physics Distance – Time table Time, t (min) Distance s km 0 0 12 6 24 12 36 18 48 24 60 30 Table 2.3 Figure 2.5 For above mentioned motion in the table a distance-time graph shown in fig 2.5. Suppose from the graph we have to find the traveled distance in 32 minute by the auto-rickshaw; we have to mark a point (M) to indicate time, 32 minute on X-axis. Then we have to draw a line parallel to Y-axis from that point on the graph. Let the line at point P. Now draw a perpendicular on Y-axis from P. This perpendicular meets at point N on Y-axis. Therefore, ON is the distance traveled in 32 minutes. The graph shows that the auto-rickshaw travels 16km in this time. Therefore, from graph we find any traveled distance S = PM for any time t = OM. ∴ Velocity = distance time = PM OM = ON OM , Here, PM OM is the slope of the OP. (B) In case of Non-uniform velocity : Fig 2.6 represents a distance-time graph of a body moving with non-uniform velocity. In this case the body does not move over equal distance in equal intervals of time, so the graph will not be a straight line. It will be a curved line. Since, the body is not moving with uniform velocity, its velocity will not be the same at all instants during its motion. Suppose, the velocity of the body at a particular instant indicated by the point P in the curved line, is to be determined. To determine the velocity at the point P, we will have to consider a very small right angled triangle ABC. Its hypotenuse AB is so small Do by yourself : Take a graph paper. Draw the distance-time graph on the graph paper using any convenient unit mentioned in the table above. Find the distance traveled and velocity of the auto-rickshaw in 32 minutes from the graph. What will be the distance traveled and velocit y in 44 minutes. \n"
     ]
    }
   ],
   "source": [
    "print(cleaned_data[16].page_content)"
   ]
  },
  {
   "cell_type": "markdown",
   "metadata": {},
   "source": [
    "## Handle Math Expressions"
   ]
  },
  {
   "cell_type": "code",
   "execution_count": 7,
   "metadata": {},
   "outputs": [],
   "source": [
    "import re\n",
    "from langchain.schema import Document\n",
    "\n",
    "# Patterns to detect mathematical expressions\n",
    "patterns = [\n",
    "    r'∴.*',        # Lines starting with '∴' (therefore)\n",
    "    r'=[^=]*',     # Equal signs\n",
    "    r'\\b[^\\s]+/[^\\s]+\\b',  # Fractions like 'distance/time'\n",
    "]\n",
    "\n",
    "def extract_math_expressions(text):\n",
    "    math_expressions = []\n",
    "    for pattern in patterns:\n",
    "        matches = re.findall(pattern, text)\n",
    "        math_expressions.extend(matches)\n",
    "    return math_expressions"
   ]
  },
  {
   "cell_type": "code",
   "execution_count": 8,
   "metadata": {},
   "outputs": [
    {
     "name": "stdout",
     "output_type": "stream",
     "text": [
      "∴ Velocity = distance / time = PM / OM = ON / OM.\n",
      "= 5 * t^2 + 3 * t + 2, and velocity is given by v \n",
      "= ds / dt.\n",
      "∴ Velocity \n",
      "= distance / time \n",
      "= PM / OM \n",
      "= ON / OM.\n",
      "\n"
     ]
    }
   ],
   "source": [
    "# test on a sample\n",
    "sample_text = \"\"\"\n",
    "The equation of motion is s = 5 * t^2 + 3 * t + 2, and velocity is given by v = ds / dt.\n",
    "∴ Velocity = distance / time = PM / OM = ON / OM.\n",
    "\"\"\"\n",
    "\n",
    "expr = extract_math_expressions(sample_text)\n",
    "for i in expr: print(i)"
   ]
  },
  {
   "cell_type": "code",
   "execution_count": 9,
   "metadata": {},
   "outputs": [],
   "source": [
    "# Extract matching patterns from pdf\n",
    "for doc in cleaned_data:\n",
    "    math_exprs = extract_math_expressions(doc.page_content)\n",
    "    \n",
    "    if isinstance(math_exprs, list):\n",
    "        math_exprs = \"; \".join(math_exprs)  # Join the list elements into a single string\n",
    "    \n",
    "    # if not isinstance(math_exprs, (str,int,float,bool)): math_exprs = str(math_exprs)\n",
    "    \n",
    "    doc.metadata['math_expressions'] = math_exprs"
   ]
  },
  {
   "cell_type": "code",
   "execution_count": 10,
   "metadata": {},
   "outputs": [
    {
     "data": {
      "text/plain": [
       "'∴ Velocity = distance time = PM OM = ON OM , Here, PM OM is the slope of the OP. (B) In case of Non-uniform velocity : Fig 2.6 represents a distance-time graph of a body moving with non-uniform velocity. In this case the body does not move over equal distance in equal intervals of time, so the graph will not be a straight line. It will be a curved line. Since, the body is not moving with uniform velocity, its velocity will not be the same at all instants during its motion. Suppose, the velocity of the body at a particular instant indicated by the point P in the curved line, is to be determined. To determine the velocity at the point P, we will have to consider a very small right angled triangle ABC. Its hypotenuse AB is so small Do by yourself : Take a graph paper. Draw the distance-time graph on the graph paper using any convenient unit mentioned in the table above. Find the distance traveled and velocity of the auto-rickshaw in 32 minutes from the graph. What will be the distance traveled and velocit y in 44 minutes. ; = PM for any time t ; = OM. ∴ Velocity ; = distance time ; = PM OM ; = ON OM , Here, PM OM is the slope of the OP. (B) In case of Non-uniform velocity : Fig 2.6 represents a distance-time graph of a body moving with non-uniform velocity. In this case the body does not move over equal distance in equal intervals of time, so the graph will not be a straight line. It will be a curved line. Since, the body is not moving with uniform velocity, its velocity will not be the same at all instants during its motion. Suppose, the velocity of the body at a particular instant indicated by the point P in the curved line, is to be determined. To determine the velocity at the point P, we will have to consider a very small right angled triangle ABC. Its hypotenuse AB is so small Do by yourself : Take a graph paper. Draw the distance-time graph on the graph paper using any convenient unit mentioned in the table above. Find the distance traveled and velocity of the auto-rickshaw in 32 minutes from the graph. What will be the distance traveled and velocit y in 44 minutes. '"
      ]
     },
     "execution_count": 10,
     "metadata": {},
     "output_type": "execute_result"
    }
   ],
   "source": [
    "cleaned_data[16].metadata['math_expressions']"
   ]
  },
  {
   "cell_type": "code",
   "execution_count": 11,
   "metadata": {},
   "outputs": [
    {
     "data": {
      "text/plain": [
       "str"
      ]
     },
     "execution_count": 11,
     "metadata": {},
     "output_type": "execute_result"
    }
   ],
   "source": [
    "type(cleaned_data[16].metadata['math_expressions'])"
   ]
  },
  {
   "cell_type": "code",
   "execution_count": 12,
   "metadata": {},
   "outputs": [],
   "source": [
    "# for i in cleaned_data[16].metadata['math_expressions']: print(i)"
   ]
  },
  {
   "cell_type": "markdown",
   "metadata": {},
   "source": [
    "## Process Tables"
   ]
  },
  {
   "cell_type": "code",
   "execution_count": 13,
   "metadata": {},
   "outputs": [],
   "source": [
    "# extract tables\n",
    "import pdfplumber\n",
    "tables = []\n",
    "with pdfplumber.open(pdf_path) as pdf:\n",
    "    for page in pdf.pages:\n",
    "        table = page.extract_table()\n",
    "        if table:\n",
    "            tables.append(table)"
   ]
  },
  {
   "cell_type": "code",
   "execution_count": 14,
   "metadata": {},
   "outputs": [
    {
     "data": {
      "text/plain": [
       "[['Scalar Quantity', None, None, 'Vector quantity', None, None],\n",
       " ['Distance', 'd', '40m', 'Displacement', 's', '40m east direction'],\n",
       " ['Speed', 'v', '30ms-1', 'Velocity', 'v', '30 ms-1 north direction'],\n",
       " ['Time', 't', '15s', 'Force', 'F', '100N upward direction'],\n",
       " ['Energy', 'E', '2000j', 'Acceleration', 'a', '98ms-2 downward direction']]"
      ]
     },
     "execution_count": 14,
     "metadata": {},
     "output_type": "execute_result"
    }
   ],
   "source": [
    "tables[0]"
   ]
  },
  {
   "cell_type": "code",
   "execution_count": 15,
   "metadata": {},
   "outputs": [
    {
     "data": {
      "text/plain": [
       "6"
      ]
     },
     "execution_count": 15,
     "metadata": {},
     "output_type": "execute_result"
    }
   ],
   "source": [
    "len(tables)"
   ]
  },
  {
   "cell_type": "code",
   "execution_count": 16,
   "metadata": {},
   "outputs": [],
   "source": [
    "# Convert tables to text\n",
    "import pandas as pd\n",
    "\n",
    "table_dfs = [pd.DataFrame(table[1:], columns=table[0]) for table in tables]\n",
    "table_texts = [df.to_string(index=False) for df in table_dfs]"
   ]
  },
  {
   "cell_type": "code",
   "execution_count": 17,
   "metadata": {},
   "outputs": [
    {
     "data": {
      "text/html": [
       "<div>\n",
       "<style scoped>\n",
       "    .dataframe tbody tr th:only-of-type {\n",
       "        vertical-align: middle;\n",
       "    }\n",
       "\n",
       "    .dataframe tbody tr th {\n",
       "        vertical-align: top;\n",
       "    }\n",
       "\n",
       "    .dataframe thead th {\n",
       "        text-align: right;\n",
       "    }\n",
       "</style>\n",
       "<table border=\"1\" class=\"dataframe\">\n",
       "  <thead>\n",
       "    <tr style=\"text-align: right;\">\n",
       "      <th></th>\n",
       "      <th>Scalar Quantity</th>\n",
       "      <th>None</th>\n",
       "      <th>None</th>\n",
       "      <th>Vector quantity</th>\n",
       "      <th>None</th>\n",
       "      <th>None</th>\n",
       "    </tr>\n",
       "  </thead>\n",
       "  <tbody>\n",
       "    <tr>\n",
       "      <th>0</th>\n",
       "      <td>Distance</td>\n",
       "      <td>d</td>\n",
       "      <td>40m</td>\n",
       "      <td>Displacement</td>\n",
       "      <td>s</td>\n",
       "      <td>40m east direction</td>\n",
       "    </tr>\n",
       "    <tr>\n",
       "      <th>1</th>\n",
       "      <td>Speed</td>\n",
       "      <td>v</td>\n",
       "      <td>30ms-1</td>\n",
       "      <td>Velocity</td>\n",
       "      <td>v</td>\n",
       "      <td>30 ms-1 north direction</td>\n",
       "    </tr>\n",
       "    <tr>\n",
       "      <th>2</th>\n",
       "      <td>Time</td>\n",
       "      <td>t</td>\n",
       "      <td>15s</td>\n",
       "      <td>Force</td>\n",
       "      <td>F</td>\n",
       "      <td>100N upward direction</td>\n",
       "    </tr>\n",
       "    <tr>\n",
       "      <th>3</th>\n",
       "      <td>Energy</td>\n",
       "      <td>E</td>\n",
       "      <td>2000j</td>\n",
       "      <td>Acceleration</td>\n",
       "      <td>a</td>\n",
       "      <td>98ms-2 downward direction</td>\n",
       "    </tr>\n",
       "  </tbody>\n",
       "</table>\n",
       "</div>"
      ],
      "text/plain": [
       "  Scalar Quantity None    None Vector quantity None                       None\n",
       "0        Distance    d     40m    Displacement    s         40m east direction\n",
       "1           Speed    v  30ms-1        Velocity    v    30 ms-1 north direction\n",
       "2            Time    t     15s           Force    F      100N upward direction\n",
       "3          Energy    E   2000j    Acceleration    a  98ms-2 downward direction"
      ]
     },
     "execution_count": 17,
     "metadata": {},
     "output_type": "execute_result"
    }
   ],
   "source": [
    "table_dfs[0]"
   ]
  },
  {
   "cell_type": "code",
   "execution_count": 18,
   "metadata": {},
   "outputs": [
    {
     "data": {
      "text/plain": [
       "'Scalar Quantity None   None Vector quantity None                      None\\n       Distance    d    40m    Displacement    s        40m east direction\\n          Speed    v 30ms-1        Velocity    v   30 ms-1 north direction\\n           Time    t    15s           Force    F     100N upward direction\\n         Energy    E  2000j    Acceleration    a 98ms-2 downward direction'"
      ]
     },
     "execution_count": 18,
     "metadata": {},
     "output_type": "execute_result"
    }
   ],
   "source": [
    "table_texts[0]"
   ]
  },
  {
   "cell_type": "code",
   "execution_count": 19,
   "metadata": {},
   "outputs": [],
   "source": [
    "# Convert table texts to Document objects with metadata\n",
    "table_data = [Document(page_content=clean_text(text), metadata={'source': 'table'}) for text in table_texts]\n",
    "\n",
    "# Combine cleaned data and table documents\n",
    "combined_data = cleaned_data + table_data"
   ]
  },
  {
   "cell_type": "code",
   "execution_count": 20,
   "metadata": {},
   "outputs": [
    {
     "name": "stdout",
     "output_type": "stream",
     "text": [
      "size of cleaned_data:\t 22\n",
      "size of table_data:\t 6\n",
      "size of combined_data:\t 28\n"
     ]
    }
   ],
   "source": [
    "# new size of data\n",
    "print(\"size of cleaned_data:\\t\",len(cleaned_data))\n",
    "print(\"size of table_data:\\t\",len(table_data))\n",
    "print(\"size of combined_data:\\t\",len(combined_data))\n"
   ]
  },
  {
   "cell_type": "code",
   "execution_count": 21,
   "metadata": {},
   "outputs": [
    {
     "data": {
      "text/plain": [
       "Document(metadata={'source': 'phy_book_ch2.pdf', 'page': 0, 'math_expressions': ''}, page_content='26 Physics Chapter Two MOTION [The object, that we see around us either are stationery or in motion. What do we actually understand by the words ``rest’’ and ``motion’’. We need different quantities regarding motion to express the characteristics of motion of a moving object. In this chapter we will discuss different quantities regarding motion, their dimensions, units, the relations among them etc.] By the end of this chapter we will be able to - 1. Explain the rest and motion 2. Find out the difference among different types of motion. 3. Explain the scalar and vector quantities 4. Analyze the relation among the quantities regarding motion 5. Explain the motion of freely falling bodies 6. Analyze the relations among the quantities regarding motion with the help of graph 7. Realize the effect of motion in our life ')"
      ]
     },
     "execution_count": 21,
     "metadata": {},
     "output_type": "execute_result"
    }
   ],
   "source": [
    "combined_data[0]"
   ]
  },
  {
   "cell_type": "code",
   "execution_count": 22,
   "metadata": {},
   "outputs": [
    {
     "data": {
      "text/plain": [
       "[Document(metadata={'source': 'table'}, page_content='Serial No Time (s) Velocity (kmh-1) Velocity (ms-1) 1. 0 0 0 2. 8 14.4 4 3. 16 28.8 8 4. 24 43.2 12 5. 32 57.6 16 6. 40 72.0 20'),\n",
       " Document(metadata={'source': 'table'}, page_content='Time, t (min) Distance s km 0 0 12 6 24\\\\n36 12\\\\n18 48 24 60 30'),\n",
       " Document(metadata={'source': 'table'}, page_content=' Do by yourself : The velocity of a car after every five seconds is given in the table below. None None None None None None None None None None None Table : 2.4 None None None None None None None None None None None None Time (s) Velocity (kmh-1) Velocity (ms-1) None None 0 0 0 None None 5 9 2.5 None None 10 18 5.0 None None 15 27 7.5 None None 20 36 10.0 None None 25 45 12.5 None None 30 54 15.0 None None Take a graph paper. Draw the velocity-time graph on the graph paper using any convenient None None None None None None None None None None None None unit mentioned in the table above. Find the velocity and acceleration of the car in 12 seconds None None None None None None None None None None None None from the graph. None None None None None None None None None None None'),\n",
       " Document(metadata={'source': 'table'}, page_content='Reading Traveled distance i.e. length of\\\\nthe plank Time (s) Average speed None None None None distance\\\\n= (ms-1)\\\\ntime None 1 None None 2 None None 3 None None 4 None None 5 None None 6 None None 7 None None'),\n",
       " Document(metadata={'source': 'table'}, page_content='Reading Traveled distance (m) Time (s) Average speed = distance /\\\\ntime 1 2 3 4 5 6 7 ')]"
      ]
     },
     "execution_count": 22,
     "metadata": {},
     "output_type": "execute_result"
    }
   ],
   "source": [
    "table_data[-5:]"
   ]
  },
  {
   "cell_type": "code",
   "execution_count": 23,
   "metadata": {},
   "outputs": [
    {
     "data": {
      "text/plain": [
       "[Document(metadata={'source': 'table'}, page_content='Serial No Time (s) Velocity (kmh-1) Velocity (ms-1) 1. 0 0 0 2. 8 14.4 4 3. 16 28.8 8 4. 24 43.2 12 5. 32 57.6 16 6. 40 72.0 20'),\n",
       " Document(metadata={'source': 'table'}, page_content='Time, t (min) Distance s km 0 0 12 6 24\\\\n36 12\\\\n18 48 24 60 30'),\n",
       " Document(metadata={'source': 'table'}, page_content=' Do by yourself : The velocity of a car after every five seconds is given in the table below. None None None None None None None None None None None Table : 2.4 None None None None None None None None None None None None Time (s) Velocity (kmh-1) Velocity (ms-1) None None 0 0 0 None None 5 9 2.5 None None 10 18 5.0 None None 15 27 7.5 None None 20 36 10.0 None None 25 45 12.5 None None 30 54 15.0 None None Take a graph paper. Draw the velocity-time graph on the graph paper using any convenient None None None None None None None None None None None None unit mentioned in the table above. Find the velocity and acceleration of the car in 12 seconds None None None None None None None None None None None None from the graph. None None None None None None None None None None None'),\n",
       " Document(metadata={'source': 'table'}, page_content='Reading Traveled distance i.e. length of\\\\nthe plank Time (s) Average speed None None None None distance\\\\n= (ms-1)\\\\ntime None 1 None None 2 None None 3 None None 4 None None 5 None None 6 None None 7 None None'),\n",
       " Document(metadata={'source': 'table'}, page_content='Reading Traveled distance (m) Time (s) Average speed = distance /\\\\ntime 1 2 3 4 5 6 7 ')]"
      ]
     },
     "execution_count": 23,
     "metadata": {},
     "output_type": "execute_result"
    }
   ],
   "source": [
    "combined_data[-5:]"
   ]
  },
  {
   "cell_type": "markdown",
   "metadata": {},
   "source": [
    "## Split and Chunking"
   ]
  },
  {
   "cell_type": "code",
   "execution_count": 24,
   "metadata": {},
   "outputs": [],
   "source": [
    "# !pip install langchain_text_splitters"
   ]
  },
  {
   "cell_type": "code",
   "execution_count": 24,
   "metadata": {},
   "outputs": [],
   "source": [
    "# Split and chunk\n",
    "from langchain_text_splitters import RecursiveCharacterTextSplitter\n",
    "\n",
    "text_splitter = RecursiveCharacterTextSplitter(\n",
    "    chunk_size = 1000, \n",
    "    chunk_overlap = 100,\n",
    "    length_function = len,\n",
    ")\n",
    "chunked_document = text_splitter.split_documents(combined_data)"
   ]
  },
  {
   "cell_type": "code",
   "execution_count": 25,
   "metadata": {},
   "outputs": [
    {
     "data": {
      "text/plain": [
       "Document(metadata={'source': 'phy_book_ch2.pdf', 'page': 0, 'math_expressions': ''}, page_content='26 Physics Chapter Two MOTION [The object, that we see around us either are stationery or in motion. What do we actually understand by the words ``rest’’ and ``motion’’. We need different quantities regarding motion to express the characteristics of motion of a moving object. In this chapter we will discuss different quantities regarding motion, their dimensions, units, the relations among them etc.] By the end of this chapter we will be able to - 1. Explain the rest and motion 2. Find out the difference among different types of motion. 3. Explain the scalar and vector quantities 4. Analyze the relation among the quantities regarding motion 5. Explain the motion of freely falling bodies 6. Analyze the relations among the quantities regarding motion with the help of graph 7. Realize the effect of motion in our life')"
      ]
     },
     "execution_count": 25,
     "metadata": {},
     "output_type": "execute_result"
    }
   ],
   "source": [
    "chunked_document[0]"
   ]
  },
  {
   "cell_type": "code",
   "execution_count": 26,
   "metadata": {},
   "outputs": [
    {
     "name": "stdout",
     "output_type": "stream",
     "text": [
      "26 Physics Chapter Two MOTION [The object, that we see around us either are stationery or in motion. What do we actually understand by the words ``rest’’ and ``motion’’. We need different quantities regarding motion to express the characteristics of motion of a moving object. In this chapter we will discuss different quantities regarding motion, their dimensions, units, the relations among them etc.] By the end of this chapter we will be able to - 1. Explain the rest and motion 2. Find out the difference among different types of motion. 3. Explain the scalar and vector quantities 4. Analyze the relation among the quantities regarding motion 5. Explain the motion of freely falling bodies 6. Analyze the relations among the quantities regarding motion with the help of graph 7. Realize the effect of motion in our life\n"
     ]
    }
   ],
   "source": [
    "print(chunked_document[0].page_content)"
   ]
  },
  {
   "cell_type": "markdown",
   "metadata": {},
   "source": [
    "## Vector Embedding"
   ]
  },
  {
   "cell_type": "code",
   "execution_count": 28,
   "metadata": {},
   "outputs": [],
   "source": [
    "# %pip install langchain_community\n",
    "# %pip install -qU langchain-huggingface"
   ]
  },
  {
   "cell_type": "code",
   "execution_count": 27,
   "metadata": {},
   "outputs": [
    {
     "name": "stderr",
     "output_type": "stream",
     "text": [
      "c:\\Users\\almah\\AppData\\Local\\Programs\\Python\\Python312\\Lib\\importlib\\__init__.py:90: LangChainDeprecationWarning: As of langchain-core 0.3.0, LangChain uses pydantic v2 internally. The langchain_core.pydantic_v1 module was a compatibility shim for pydantic v1, and should no longer be used. Please update the code to import from Pydantic directly.\n",
      "\n",
      "For example, replace imports like: `from langchain_core.pydantic_v1 import BaseModel`\n",
      "with: `from pydantic import BaseModel`\n",
      "or the v1 compatibility namespace if you are working in a code base that has not been fully upgraded to pydantic 2 yet. \tfrom pydantic.v1 import BaseModel\n",
      "\n",
      "  return _bootstrap._gcd_import(name[level:], package, level)\n"
     ]
    }
   ],
   "source": [
    "# # Embed the chunked document using OllamaEmbeddings (nomic-embed-text)\n",
    "\n",
    "# from langchain_community.embeddings import OllamaEmbeddings\n",
    "# embedding = OllamaEmbeddings(model=\"nomic-embed-text\", show_progress=True)\n",
    "\n",
    "# # embedded_texts = embedding.embed_documents(chunked_document[x].page_content for x in chunked_document[len(chunked_document)-1])"
   ]
  },
  {
   "cell_type": "code",
   "execution_count": 31,
   "metadata": {},
   "outputs": [
    {
     "name": "stderr",
     "output_type": "stream",
     "text": [
      "c:\\Users\\almah\\AppData\\Local\\Programs\\Python\\Python312\\Lib\\site-packages\\sentence_transformers\\cross_encoder\\CrossEncoder.py:13: TqdmExperimentalWarning: Using `tqdm.autonotebook.tqdm` in notebook mode. Use `tqdm.tqdm` instead to force console mode (e.g. in jupyter console)\n",
      "  from tqdm.autonotebook import tqdm, trange\n"
     ]
    },
    {
     "name": "stdout",
     "output_type": "stream",
     "text": [
      "WARNING:tensorflow:From c:\\Users\\almah\\AppData\\Local\\Programs\\Python\\Python312\\Lib\\site-packages\\tf_keras\\src\\losses.py:2976: The name tf.losses.sparse_softmax_cross_entropy is deprecated. Please use tf.compat.v1.losses.sparse_softmax_cross_entropy instead.\n",
      "\n"
     ]
    }
   ],
   "source": [
    "# # Embed the chunked document using SentenceTransformer (all-MiniLM-L6-v2)\n",
    "\n",
    "# # from sentence_transformers import SentenceTransformer\n",
    "# # model = SentenceTransformer('sentence-transformers/all-MiniLM-L6-v2')\n",
    "\n",
    "from langchain_huggingface import HuggingFaceEmbeddings\n",
    "embedding = HuggingFaceEmbeddings(model_name='sentence-transformers/all-MiniLM-L6-v2')"
   ]
  },
  {
   "cell_type": "code",
   "execution_count": 39,
   "metadata": {},
   "outputs": [],
   "source": [
    "# # Example usage\n",
    "# sentence = \"This is a test sentence.\"\n",
    "# embedding = model.encode(sentence)\n",
    "\n",
    "# print(\"Sentence embedding:\", embedding)"
   ]
  },
  {
   "cell_type": "markdown",
   "metadata": {},
   "source": [
    "## Store in ChromaDB"
   ]
  },
  {
   "cell_type": "markdown",
   "metadata": {},
   "source": [
    "### Filter Metadata before storing in ChromaDB"
   ]
  },
  {
   "cell_type": "code",
   "execution_count": 28,
   "metadata": {},
   "outputs": [],
   "source": [
    "def filter_complex_metadata(metadata):\n",
    "    \"\"\"\n",
    "    Filter out complex metadata values. Only keep str, int, float, or bool values.\n",
    "    \"\"\"\n",
    "    filtered_metadata = {}\n",
    "    for key, value in metadata.items():\n",
    "        if isinstance(value, (str, int, float, bool)):\n",
    "            filtered_metadata[key] = value\n",
    "        else:\n",
    "            filtered_metadata[key] = str(value)  # Convert complex types to string\n",
    "    return filtered_metadata\n",
    "\n",
    "# Apply metadata filtering\n",
    "filtered_metadatas = [filter_complex_metadata(doc.metadata) for doc in chunked_document]\n"
   ]
  },
  {
   "cell_type": "code",
   "execution_count": 32,
   "metadata": {},
   "outputs": [
    {
     "name": "stdout",
     "output_type": "stream",
     "text": [
      "Embedded Documents stored in ChromaDB successfully!\n"
     ]
    }
   ],
   "source": [
    "# Create the Chroma vector store\n",
    "from langchain_chroma.vectorstores import Chroma\n",
    "\n",
    "vector_db = Chroma.from_documents(\n",
    "    documents=chunked_document,\n",
    "    embedding=embedding,\n",
    "    collection_name=\"local-rag\",\n",
    "    persist_directory=\"./db/db_minilm\"\n",
    ")\n",
    "\n",
    "print(\"Embedded Documents stored in ChromaDB successfully!\")"
   ]
  }
 ],
 "metadata": {
  "kernelspec": {
   "display_name": "Python 3",
   "language": "python",
   "name": "python3"
  },
  "language_info": {
   "codemirror_mode": {
    "name": "ipython",
    "version": 3
   },
   "file_extension": ".py",
   "mimetype": "text/x-python",
   "name": "python",
   "nbconvert_exporter": "python",
   "pygments_lexer": "ipython3",
   "version": "3.12.7"
  }
 },
 "nbformat": 4,
 "nbformat_minor": 4
}
